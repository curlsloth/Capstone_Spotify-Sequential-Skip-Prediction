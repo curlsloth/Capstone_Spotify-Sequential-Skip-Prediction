{
 "cells": [
  {
   "cell_type": "code",
   "execution_count": 1,
   "id": "f0e66449",
   "metadata": {},
   "outputs": [],
   "source": [
    "import pandas as pd\n",
    "import numpy as np\n",
    "import tarfile\n",
    "import io\n",
    "import glob\n",
    "import dask.dataframe as dd\n",
    "\n",
    "from bayes_opt import BayesianOptimization\n",
    "from bayes_opt.logger import JSONLogger\n",
    "from bayes_opt.event import Events\n",
    "from bayes_opt.util import load_logs\n",
    "\n",
    "import lightgbm as lgb\n",
    "import warnings\n",
    "warnings.simplefilter(\"ignore\")\n",
    "import myFunc as mf\n",
    "\n",
    "\n",
    "\n",
    "tar = tarfile.open('../data/raw/20181120_track_features.tar.gz', 'r:gz')\n",
    "csv_files = tar.getnames()\n",
    "\n",
    "tf_df_list = []\n",
    "\n",
    "for csv_file in [csv_files[2], csv_files[4]]:\n",
    "    csv_contents = tar.extractfile(csv_file).read()\n",
    "    tf_df_list.append(pd.read_csv(io.BytesIO(csv_contents), encoding='utf8'))\n",
    "\n",
    "tf_df = pd.concat(tf_df_list, ignore_index=True)\n",
    "tf_df.rename(columns={'track_id':'track_id_clean'}, inplace=True)\n",
    "\n",
    "kmean300_df = pd.read_csv('../data/interim/all_data/mbKMeans300clusters.csv', usecols=['track_id','clus'])\n",
    "kmean300_df.rename(columns={'track_id':'track_id_clean'}, inplace=True)\n",
    "\n"
   ]
  },
  {
   "cell_type": "code",
   "execution_count": 2,
   "id": "294e5aa9",
   "metadata": {
    "scrolled": true
   },
   "outputs": [
    {
     "data": {
      "text/plain": [
       "['../data/raw/training_set/log_0_20180917_000000000000.csv',\n",
       " '../data/raw/training_set/log_1_20180917_000000000000.csv',\n",
       " '../data/raw/training_set/log_2_20180917_000000000000.csv',\n",
       " '../data/raw/training_set/log_3_20180917_000000000000.csv',\n",
       " '../data/raw/training_set/log_4_20180917_000000000000.csv',\n",
       " '../data/raw/training_set/log_5_20180917_000000000000.csv',\n",
       " '../data/raw/training_set/log_6_20180917_000000000000.csv',\n",
       " '../data/raw/training_set/log_7_20180917_000000000000.csv',\n",
       " '../data/raw/training_set/log_8_20180917_000000000000.csv',\n",
       " '../data/raw/training_set/log_9_20180917_000000000000.csv']"
      ]
     },
     "execution_count": 2,
     "metadata": {},
     "output_type": "execute_result"
    }
   ],
   "source": [
    "file_list = []\n",
    "for logN in range(10):\n",
    "    file_list.append('../data/raw/training_set/log_'+str(logN)+'_20180917_000000000000.csv')\n",
    "\n",
    "file_list"
   ]
  },
  {
   "cell_type": "code",
   "execution_count": 3,
   "id": "4e1df804",
   "metadata": {
    "scrolled": true
   },
   "outputs": [
    {
     "data": {
      "text/plain": [
       "['../data/raw/training_set/log_7_20180917_000000000000.csv',\n",
       " '../data/raw/training_set/log_8_20180917_000000000000.csv',\n",
       " '../data/raw/training_set/log_5_20180917_000000000000.csv',\n",
       " '../data/raw/training_set/log_6_20180917_000000000000.csv',\n",
       " '../data/raw/training_set/log_3_20180917_000000000000.csv',\n",
       " '../data/raw/training_set/log_2_20180917_000000000000.csv',\n",
       " '../data/raw/training_set/log_9_20180917_000000000000.csv',\n",
       " '../data/raw/training_set/log_0_20180917_000000000000.csv',\n",
       " '../data/raw/training_set/log_1_20180917_000000000000.csv',\n",
       " '../data/raw/training_set/log_4_20180917_000000000000.csv']"
      ]
     },
     "execution_count": 3,
     "metadata": {},
     "output_type": "execute_result"
    }
   ],
   "source": [
    "import random\n",
    "random.Random(23).shuffle(file_list) # randomly shuffle the list\n",
    "file_list"
   ]
  },
  {
   "cell_type": "code",
   "execution_count": 4,
   "id": "9781bd30",
   "metadata": {},
   "outputs": [
    {
     "name": "stdout",
     "output_type": "stream",
     "text": [
      "[LightGBM] [Warning] No further splits with positive gain, best gain: -inf\n",
      "[LightGBM] [Warning] No further splits with positive gain, best gain: -inf\n",
      "[LightGBM] [Warning] No further splits with positive gain, best gain: -inf\n",
      "Runtime: 94132.07s\n"
     ]
    }
   ],
   "source": [
    "from timeit import default_timer as timer #to see how long the computation will take\n",
    "\n",
    "nFile = 0\n",
    "batch_size = 10\n",
    "while nFile < 10:\n",
    "    start = timer()\n",
    "    nFile += batch_size\n",
    "    df_lookup_list = []\n",
    "    for file in file_list[(nFile-batch_size):min(nFile, len(file_list))]:\n",
    "        df_lookup_list.append(mf.prep_dfs(file, tf_df, kmean300_df))\n",
    "\n",
    "    df_lookup = pd.concat(df_lookup_list)\n",
    "    df_lookup = df_lookup.merge(tf_df.drop(columns = ['key','time_signature','mode']))\n",
    "    \n",
    "\n",
    "    dtrain = lgb.Dataset(df_lookup.drop(columns = ['session_id','track_id_clean','skip_2','weight']).astype('float32'), \n",
    "                         label=df_lookup['skip_2'],\n",
    "                         weight = df_lookup['weight'],\n",
    "                         free_raw_data=False) # https://lightgbm.readthedocs.io/en/latest/FAQ.html#error-messages-cannot-before-construct-dataset\n",
    "\n",
    "    def bo_tune_lgb(num_leaves, learning_rate, num_iterations, bagging_fraction, bagging_freq, feature_fraction, min_gain_to_split, nFile, batch_size):\n",
    "        params = {'num_leaves': int(num_leaves),\n",
    "                  'learning_rate':learning_rate,\n",
    "                  'metric': 'binary_error',\n",
    "                  'num_iterations':int(num_iterations),\n",
    "                  'bagging_fraction':bagging_fraction,\n",
    "                  'bagging_freq':int(bagging_freq),\n",
    "                  'feature_fraction':feature_fraction,\n",
    "                  'min_gain_to_split':min_gain_to_split,\n",
    "                  'objective': 'binary',\n",
    "                  'force_row_wise': True,\n",
    "                  'num_threads': 5,\n",
    "                  'verbosity': 0,\n",
    "                  'tree_learner': 'voting_parallel'} #https://lightgbm.readthedocs.io/en/latest/Parallel-Learning-Guide.html\n",
    "       \n",
    "\n",
    "        cv_result = lgb.cv(params, dtrain, nfold=4, return_cvbooster=True, init_model=None)\n",
    "        cv_result['cvbooster'].save_model('../models/SVD/LightGBM_BayesOpt_dec17/for20180918/cvbooster_5tracks_'+str(int(nFile))+'_dec23_newWeights.txt')\n",
    "        \n",
    "        return 1-cv_result['binary_error-mean'][-1]\n",
    "\n",
    "    lgb_bo = BayesianOptimization(bo_tune_lgb,\n",
    "                                  pbounds={'num_leaves': (2, 30),\n",
    "                                           'learning_rate':(0.01,0.2),\n",
    "                                           'num_iterations': (700,900),\n",
    "                                           'bagging_fraction': (0.8,0.8),\n",
    "                                           'bagging_freq': (2,2),\n",
    "                                           'feature_fraction': (0.7, 0.8),\n",
    "                                           'min_gain_to_split':(0,0.1),\n",
    "                                           'nFile': (nFile,nFile), \n",
    "                                           'batch_size': (batch_size,batch_size)\n",
    "                                            },\n",
    "                                  random_state=23\n",
    "                                 )\n",
    "    logger = JSONLogger(path='../models/SVD/LightGBM_BayesOpt_dec17/for20180918/logs_5tracks_'+str(nFile)+'_dec23_newWeights.json')\n",
    "    lgb_bo.subscribe(Events.OPTIMIZATION_STEP, logger)\n",
    "\n",
    "    start = timer()\n",
    "    lgb_bo.maximize(n_iter=25, init_points=10)\n",
    "    print('Runtime: %0.2fs' % (timer() - start))"
   ]
  },
  {
   "cell_type": "code",
   "execution_count": null,
   "id": "a25b2ea5",
   "metadata": {},
   "outputs": [],
   "source": []
  }
 ],
 "metadata": {
  "kernelspec": {
   "display_name": "Python 3 (ipykernel)",
   "language": "python",
   "name": "python3"
  },
  "language_info": {
   "codemirror_mode": {
    "name": "ipython",
    "version": 3
   },
   "file_extension": ".py",
   "mimetype": "text/x-python",
   "name": "python",
   "nbconvert_exporter": "python",
   "pygments_lexer": "ipython3",
   "version": "3.8.13"
  }
 },
 "nbformat": 4,
 "nbformat_minor": 5
}
