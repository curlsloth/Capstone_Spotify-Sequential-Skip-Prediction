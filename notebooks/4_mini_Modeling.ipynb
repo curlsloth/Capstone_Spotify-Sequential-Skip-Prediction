{
 "cells": [
  {
   "cell_type": "code",
   "execution_count": 2,
   "metadata": {
    "colab": {
     "base_uri": "https://localhost:8080/"
    },
    "executionInfo": {
     "elapsed": 342844,
     "status": "ok",
     "timestamp": 1668378216726,
     "user": {
      "displayName": "Andrew Chang",
      "userId": "09222661897572446793"
     },
     "user_tz": 300
    },
    "id": "_W7lWr1ePuRC",
    "outputId": "7f6d7d95-bbbd-4d17-a3c5-9d6481f14d20"
   },
   "outputs": [],
   "source": [
    "# from google.colab import drive\n",
    "# drive.mount('/content/drive')\n",
    "# %cd /content/drive/MyDrive/Capstone_SpotifyStreaming/notebooks\n",
    "\n"
   ]
  },
  {
   "cell_type": "code",
   "execution_count": 3,
   "metadata": {},
   "outputs": [],
   "source": [
    "\n",
    "import pandas as pd\n",
    "import numpy as np\n",
    "import os\n",
    "import pickle\n",
    "import matplotlib.pyplot as plt\n",
    "import seaborn as sns\n",
    "from sklearn import __version__ as sklearn_version\n",
    "from sklearn.decomposition import PCA\n",
    "from sklearn.preprocessing import scale\n",
    "from sklearn.model_selection import train_test_split, cross_validate, GridSearchCV, learning_curve, StratifiedKFold\n",
    "from sklearn.preprocessing import StandardScaler, MinMaxScaler\n",
    "from sklearn.dummy import DummyRegressor\n",
    "from sklearn.linear_model import LinearRegression\n",
    "from sklearn.ensemble import RandomForestClassifier\n",
    "from sklearn.metrics import r2_score, mean_squared_error, mean_absolute_error\n",
    "from sklearn.pipeline import make_pipeline\n",
    "from sklearn.impute import SimpleImputer\n",
    "from sklearn.feature_selection import SelectKBest, f_regression\n",
    "import datetime\n",
    "\n",
    "#from library.sb_utils import save_file\n"
   ]
  },
  {
   "cell_type": "code",
   "execution_count": 4,
   "metadata": {
    "colab": {
     "base_uri": "https://localhost:8080/",
     "height": 424
    },
    "executionInfo": {
     "elapsed": 17031,
     "status": "ok",
     "timestamp": 1668378233750,
     "user": {
      "displayName": "Andrew Chang",
      "userId": "09222661897572446793"
     },
     "user_tz": 300
    },
    "id": "c7iYAj7sP7Sq",
    "outputId": "e671b79b-59bd-4032-a6de-b7e1ed38c528"
   },
   "outputs": [
    {
     "data": {
      "text/html": [
       "<div>\n",
       "<style scoped>\n",
       "    .dataframe tbody tr th:only-of-type {\n",
       "        vertical-align: middle;\n",
       "    }\n",
       "\n",
       "    .dataframe tbody tr th {\n",
       "        vertical-align: top;\n",
       "    }\n",
       "\n",
       "    .dataframe thead th {\n",
       "        text-align: right;\n",
       "    }\n",
       "</style>\n",
       "<table border=\"1\" class=\"dataframe\">\n",
       "  <thead>\n",
       "    <tr style=\"text-align: right;\">\n",
       "      <th></th>\n",
       "      <th>0</th>\n",
       "      <th>1</th>\n",
       "      <th>2</th>\n",
       "      <th>3</th>\n",
       "      <th>4</th>\n",
       "    </tr>\n",
       "  </thead>\n",
       "  <tbody>\n",
       "    <tr>\n",
       "      <th>event_id</th>\n",
       "      <td>0</td>\n",
       "      <td>20</td>\n",
       "      <td>40</td>\n",
       "      <td>60</td>\n",
       "      <td>80</td>\n",
       "    </tr>\n",
       "    <tr>\n",
       "      <th>session_id</th>\n",
       "      <td>0_00006f66-33e5-4de7-a324-2d18e439fc1e</td>\n",
       "      <td>0_0000a72b-09ac-412f-b452-9b9e79bded8f</td>\n",
       "      <td>0_00010fc5-b79e-4cdf-bc4c-f140d0f99a3a</td>\n",
       "      <td>0_00016a3d-9076-4f67-918f-f29e3ce160dc</td>\n",
       "      <td>0_00018b58-deb8-4f98-ac5e-d7e01b346130</td>\n",
       "    </tr>\n",
       "    <tr>\n",
       "      <th>session_position</th>\n",
       "      <td>1</td>\n",
       "      <td>1</td>\n",
       "      <td>1</td>\n",
       "      <td>1</td>\n",
       "      <td>1</td>\n",
       "    </tr>\n",
       "    <tr>\n",
       "      <th>skip_1</th>\n",
       "      <td>False</td>\n",
       "      <td>False</td>\n",
       "      <td>False</td>\n",
       "      <td>True</td>\n",
       "      <td>False</td>\n",
       "    </tr>\n",
       "    <tr>\n",
       "      <th>skip_2</th>\n",
       "      <td>False</td>\n",
       "      <td>True</td>\n",
       "      <td>False</td>\n",
       "      <td>True</td>\n",
       "      <td>False</td>\n",
       "    </tr>\n",
       "    <tr>\n",
       "      <th>...</th>\n",
       "      <td>...</td>\n",
       "      <td>...</td>\n",
       "      <td>...</td>\n",
       "      <td>...</td>\n",
       "      <td>...</td>\n",
       "    </tr>\n",
       "    <tr>\n",
       "      <th>DIFF(tf.time_signature_5) by session_id_not_skipped</th>\n",
       "      <td>NaN</td>\n",
       "      <td>NaN</td>\n",
       "      <td>0.0</td>\n",
       "      <td>0.0</td>\n",
       "      <td>0.0</td>\n",
       "    </tr>\n",
       "    <tr>\n",
       "      <th>DIFF(tf.us_popularity_estimate) by session_id</th>\n",
       "      <td>NaN</td>\n",
       "      <td>NaN</td>\n",
       "      <td>NaN</td>\n",
       "      <td>NaN</td>\n",
       "      <td>NaN</td>\n",
       "    </tr>\n",
       "    <tr>\n",
       "      <th>DIFF(tf.us_popularity_estimate) by session_id_not_skipped</th>\n",
       "      <td>NaN</td>\n",
       "      <td>NaN</td>\n",
       "      <td>1.191625</td>\n",
       "      <td>-0.068586</td>\n",
       "      <td>-0.358257</td>\n",
       "    </tr>\n",
       "    <tr>\n",
       "      <th>DIFF(tf.valence) by session_id</th>\n",
       "      <td>NaN</td>\n",
       "      <td>NaN</td>\n",
       "      <td>NaN</td>\n",
       "      <td>NaN</td>\n",
       "      <td>NaN</td>\n",
       "    </tr>\n",
       "    <tr>\n",
       "      <th>DIFF(tf.valence) by session_id_not_skipped</th>\n",
       "      <td>NaN</td>\n",
       "      <td>NaN</td>\n",
       "      <td>0.324816</td>\n",
       "      <td>0.087566</td>\n",
       "      <td>-0.420744</td>\n",
       "    </tr>\n",
       "  </tbody>\n",
       "</table>\n",
       "<p>882 rows × 5 columns</p>\n",
       "</div>"
      ],
      "text/plain": [
       "                                                                                         0  \\\n",
       "event_id                                                                                 0   \n",
       "session_id                                          0_00006f66-33e5-4de7-a324-2d18e439fc1e   \n",
       "session_position                                                                         1   \n",
       "skip_1                                                                               False   \n",
       "skip_2                                                                               False   \n",
       "...                                                                                    ...   \n",
       "DIFF(tf.time_signature_5) by session_id_not_ski...                                     NaN   \n",
       "DIFF(tf.us_popularity_estimate) by session_id                                          NaN   \n",
       "DIFF(tf.us_popularity_estimate) by session_id_n...                                     NaN   \n",
       "DIFF(tf.valence) by session_id                                                         NaN   \n",
       "DIFF(tf.valence) by session_id_not_skipped                                             NaN   \n",
       "\n",
       "                                                                                         1  \\\n",
       "event_id                                                                                20   \n",
       "session_id                                          0_0000a72b-09ac-412f-b452-9b9e79bded8f   \n",
       "session_position                                                                         1   \n",
       "skip_1                                                                               False   \n",
       "skip_2                                                                                True   \n",
       "...                                                                                    ...   \n",
       "DIFF(tf.time_signature_5) by session_id_not_ski...                                     NaN   \n",
       "DIFF(tf.us_popularity_estimate) by session_id                                          NaN   \n",
       "DIFF(tf.us_popularity_estimate) by session_id_n...                                     NaN   \n",
       "DIFF(tf.valence) by session_id                                                         NaN   \n",
       "DIFF(tf.valence) by session_id_not_skipped                                             NaN   \n",
       "\n",
       "                                                                                         2  \\\n",
       "event_id                                                                                40   \n",
       "session_id                                          0_00010fc5-b79e-4cdf-bc4c-f140d0f99a3a   \n",
       "session_position                                                                         1   \n",
       "skip_1                                                                               False   \n",
       "skip_2                                                                               False   \n",
       "...                                                                                    ...   \n",
       "DIFF(tf.time_signature_5) by session_id_not_ski...                                     0.0   \n",
       "DIFF(tf.us_popularity_estimate) by session_id                                          NaN   \n",
       "DIFF(tf.us_popularity_estimate) by session_id_n...                                1.191625   \n",
       "DIFF(tf.valence) by session_id                                                         NaN   \n",
       "DIFF(tf.valence) by session_id_not_skipped                                        0.324816   \n",
       "\n",
       "                                                                                         3  \\\n",
       "event_id                                                                                60   \n",
       "session_id                                          0_00016a3d-9076-4f67-918f-f29e3ce160dc   \n",
       "session_position                                                                         1   \n",
       "skip_1                                                                                True   \n",
       "skip_2                                                                                True   \n",
       "...                                                                                    ...   \n",
       "DIFF(tf.time_signature_5) by session_id_not_ski...                                     0.0   \n",
       "DIFF(tf.us_popularity_estimate) by session_id                                          NaN   \n",
       "DIFF(tf.us_popularity_estimate) by session_id_n...                               -0.068586   \n",
       "DIFF(tf.valence) by session_id                                                         NaN   \n",
       "DIFF(tf.valence) by session_id_not_skipped                                        0.087566   \n",
       "\n",
       "                                                                                         4  \n",
       "event_id                                                                                80  \n",
       "session_id                                          0_00018b58-deb8-4f98-ac5e-d7e01b346130  \n",
       "session_position                                                                         1  \n",
       "skip_1                                                                               False  \n",
       "skip_2                                                                               False  \n",
       "...                                                                                    ...  \n",
       "DIFF(tf.time_signature_5) by session_id_not_ski...                                     0.0  \n",
       "DIFF(tf.us_popularity_estimate) by session_id                                          NaN  \n",
       "DIFF(tf.us_popularity_estimate) by session_id_n...                               -0.358257  \n",
       "DIFF(tf.valence) by session_id                                                         NaN  \n",
       "DIFF(tf.valence) by session_id_not_skipped                                       -0.420744  \n",
       "\n",
       "[882 rows x 5 columns]"
      ]
     },
     "execution_count": 4,
     "metadata": {},
     "output_type": "execute_result"
    }
   ],
   "source": [
    "# load the feature matrix to check whether it was properly saved.\n",
    "\n",
    "feature_matrix = pd.read_csv('../data/processed/feature_matrix_skip.csv')\n",
    "feature_matrix.head().T"
   ]
  },
  {
   "cell_type": "code",
   "execution_count": 16,
   "metadata": {
    "colab": {
     "base_uri": "https://localhost:8080/"
    },
    "executionInfo": {
     "elapsed": 14,
     "status": "ok",
     "timestamp": 1668378233751,
     "user": {
      "displayName": "Andrew Chang",
      "userId": "09222661897572446793"
     },
     "user_tz": 300
    },
    "id": "qKzwHLshhQHm",
    "outputId": "ab725922-d53b-4ce8-c28b-0d5f9d1f2d72"
   },
   "outputs": [
    {
     "data": {
      "text/plain": [
       "array([dtype('int64'), dtype('O'), dtype('bool'), dtype('float64')],\n",
       "      dtype=object)"
      ]
     },
     "execution_count": 16,
     "metadata": {},
     "output_type": "execute_result"
    }
   ],
   "source": [
    "feature_matrix.dtypes.unique()"
   ]
  },
  {
   "cell_type": "code",
   "execution_count": 17,
   "metadata": {
    "colab": {
     "base_uri": "https://localhost:8080/"
    },
    "executionInfo": {
     "elapsed": 10,
     "status": "ok",
     "timestamp": 1668378233751,
     "user": {
      "displayName": "Andrew Chang",
      "userId": "09222661897572446793"
     },
     "user_tz": 300
    },
    "id": "1E1h4sqifhT3",
    "outputId": "afd6fa8e-ff54-4e3f-f362-ac45046b8d24"
   },
   "outputs": [
    {
     "data": {
      "text/plain": [
       "Index(['session_id', 'session_id_not_skipped', 'tf.MODE(log.session_id)',\n",
       "       'tf.MODE(log.session_id_not_skipped)'],\n",
       "      dtype='object')"
      ]
     },
     "execution_count": 17,
     "metadata": {},
     "output_type": "execute_result"
    }
   ],
   "source": [
    "feature_matrix.columns[feature_matrix.dtypes=='O']"
   ]
  },
  {
   "cell_type": "markdown",
   "metadata": {
    "id": "N9HQC9SrY_6-"
   },
   "source": [
    "# Train/test data split\n",
    "\n",
    "In this case ,there are 3 ways of splitting the data.\n",
    "\n",
    "\n",
    "1.   **Randomly split the data by row, regardless the session and order information.** This is the most conventional approach.\n",
    "2.   **Extract the last few tracks of each session as test dataset.** This approach focuses on whether the model can predict the next track being skipped according to its preceeding history.\n",
    "3.   **Randomly select all the rows of a few sessions as test dataset.** This approach focuses on whether the listening behavior is generalizable to different sessions.\n",
    "\n",
    "\n",
    "\n"
   ]
  },
  {
   "cell_type": "markdown",
   "metadata": {
    "id": "rKBTiPWRY9nb"
   },
   "source": [
    "# Random split"
   ]
  },
  {
   "cell_type": "code",
   "execution_count": 18,
   "metadata": {
    "executionInfo": {
     "elapsed": 751,
     "status": "ok",
     "timestamp": 1668378234495,
     "user": {
      "displayName": "Andrew Chang",
      "userId": "09222661897572446793"
     },
     "user_tz": 300
    },
    "id": "Kk_LWV1WacN-"
   },
   "outputs": [],
   "source": [
    "X_train, X_test, y_train, y_test = train_test_split(feature_matrix.drop(columns=['not_skipped', 'skip_1', 'skip_2', 'skip_3','session_id','CUM_COUNT(session_id) by session_id','CUM_COUNT(track_id_clean) by session_id', 'tf.MODE(log.session_id)', 'session_position']), \n",
    "                                                    feature_matrix['not_skipped'], test_size=0.2, \n",
    "                                                    random_state=47,stratify=feature_matrix['not_skipped'])"
   ]
  },
  {
   "cell_type": "code",
   "execution_count": 19,
   "metadata": {
    "colab": {
     "base_uri": "https://localhost:8080/"
    },
    "executionInfo": {
     "elapsed": 17,
     "status": "ok",
     "timestamp": 1668378234496,
     "user": {
      "displayName": "Andrew Chang",
      "userId": "09222661897572446793"
     },
     "user_tz": 300
    },
    "id": "TksPvmxEc4K4",
    "outputId": "ebcff6f9-2293-4636-c8dd-4de15d8539b3"
   },
   "outputs": [
    {
     "name": "stdout",
     "output_type": "stream",
     "text": [
      "X_train.shape:  (134304, 873)\n",
      "X_test.shape:  (33576, 873)\n",
      "y_train.shape:  (134304,)\n",
      "y_test.shape:  (33576,)\n"
     ]
    }
   ],
   "source": [
    "print('X_train.shape: ',X_train.shape)\n",
    "print('X_test.shape: ',X_test.shape)\n",
    "print('y_train.shape: ',y_train.shape)\n",
    "print('y_test.shape: ',y_test.shape)"
   ]
  },
  {
   "cell_type": "code",
   "execution_count": 20,
   "metadata": {
    "colab": {
     "base_uri": "https://localhost:8080/",
     "height": 317
    },
    "executionInfo": {
     "elapsed": 14,
     "status": "ok",
     "timestamp": 1668378234496,
     "user": {
      "displayName": "Andrew Chang",
      "userId": "09222661897572446793"
     },
     "user_tz": 300
    },
    "id": "CfNUx0cGdLC7",
    "outputId": "0a12f20b-7155-4e94-f16c-68ded57f763d"
   },
   "outputs": [
    {
     "data": {
      "text/html": [
       "<div>\n",
       "<style scoped>\n",
       "    .dataframe tbody tr th:only-of-type {\n",
       "        vertical-align: middle;\n",
       "    }\n",
       "\n",
       "    .dataframe tbody tr th {\n",
       "        vertical-align: top;\n",
       "    }\n",
       "\n",
       "    .dataframe thead th {\n",
       "        text-align: right;\n",
       "    }\n",
       "</style>\n",
       "<table border=\"1\" class=\"dataframe\">\n",
       "  <thead>\n",
       "    <tr style=\"text-align: right;\">\n",
       "      <th></th>\n",
       "      <th>event_id</th>\n",
       "      <th>context_switch</th>\n",
       "      <th>no_pause_before_play</th>\n",
       "      <th>short_pause_before_play</th>\n",
       "      <th>long_pause_before_play</th>\n",
       "      <th>hist_user_behavior_is_shuffle</th>\n",
       "      <th>hour_of_day</th>\n",
       "      <th>premium</th>\n",
       "      <th>hist_user_behavior_reason_start_appload</th>\n",
       "      <th>hist_user_behavior_reason_start_backbtn</th>\n",
       "      <th>...</th>\n",
       "      <th>DIFF(tf.time_signature_3) by session_id</th>\n",
       "      <th>DIFF(tf.time_signature_3) by session_id_not_skipped</th>\n",
       "      <th>DIFF(tf.time_signature_4) by session_id</th>\n",
       "      <th>DIFF(tf.time_signature_4) by session_id_not_skipped</th>\n",
       "      <th>DIFF(tf.time_signature_5) by session_id</th>\n",
       "      <th>DIFF(tf.time_signature_5) by session_id_not_skipped</th>\n",
       "      <th>DIFF(tf.us_popularity_estimate) by session_id</th>\n",
       "      <th>DIFF(tf.us_popularity_estimate) by session_id_not_skipped</th>\n",
       "      <th>DIFF(tf.valence) by session_id</th>\n",
       "      <th>DIFF(tf.valence) by session_id_not_skipped</th>\n",
       "    </tr>\n",
       "  </thead>\n",
       "  <tbody>\n",
       "    <tr>\n",
       "      <th>3635</th>\n",
       "      <td>61072</td>\n",
       "      <td>0</td>\n",
       "      <td>0</td>\n",
       "      <td>0</td>\n",
       "      <td>0</td>\n",
       "      <td>True</td>\n",
       "      <td>12</td>\n",
       "      <td>False</td>\n",
       "      <td>0</td>\n",
       "      <td>0</td>\n",
       "      <td>...</td>\n",
       "      <td>NaN</td>\n",
       "      <td>0.0</td>\n",
       "      <td>NaN</td>\n",
       "      <td>0.0</td>\n",
       "      <td>NaN</td>\n",
       "      <td>0.0</td>\n",
       "      <td>NaN</td>\n",
       "      <td>-0.020177</td>\n",
       "      <td>NaN</td>\n",
       "      <td>-0.119255</td>\n",
       "    </tr>\n",
       "    <tr>\n",
       "      <th>43147</th>\n",
       "      <td>52788</td>\n",
       "      <td>0</td>\n",
       "      <td>0</td>\n",
       "      <td>1</td>\n",
       "      <td>1</td>\n",
       "      <td>False</td>\n",
       "      <td>8</td>\n",
       "      <td>True</td>\n",
       "      <td>0</td>\n",
       "      <td>0</td>\n",
       "      <td>...</td>\n",
       "      <td>0.0</td>\n",
       "      <td>0.0</td>\n",
       "      <td>0.0</td>\n",
       "      <td>0.0</td>\n",
       "      <td>0.0</td>\n",
       "      <td>0.0</td>\n",
       "      <td>2.062224</td>\n",
       "      <td>0.007532</td>\n",
       "      <td>-0.180481</td>\n",
       "      <td>-0.035074</td>\n",
       "    </tr>\n",
       "    <tr>\n",
       "      <th>131621</th>\n",
       "      <td>144416</td>\n",
       "      <td>0</td>\n",
       "      <td>1</td>\n",
       "      <td>0</td>\n",
       "      <td>0</td>\n",
       "      <td>True</td>\n",
       "      <td>8</td>\n",
       "      <td>True</td>\n",
       "      <td>0</td>\n",
       "      <td>0</td>\n",
       "      <td>...</td>\n",
       "      <td>0.0</td>\n",
       "      <td>0.0</td>\n",
       "      <td>0.0</td>\n",
       "      <td>0.0</td>\n",
       "      <td>0.0</td>\n",
       "      <td>0.0</td>\n",
       "      <td>0.009362</td>\n",
       "      <td>-0.001848</td>\n",
       "      <td>-0.105128</td>\n",
       "      <td>0.157186</td>\n",
       "    </tr>\n",
       "    <tr>\n",
       "      <th>659</th>\n",
       "      <td>11121</td>\n",
       "      <td>0</td>\n",
       "      <td>0</td>\n",
       "      <td>0</td>\n",
       "      <td>0</td>\n",
       "      <td>False</td>\n",
       "      <td>13</td>\n",
       "      <td>True</td>\n",
       "      <td>1</td>\n",
       "      <td>0</td>\n",
       "      <td>...</td>\n",
       "      <td>NaN</td>\n",
       "      <td>0.0</td>\n",
       "      <td>NaN</td>\n",
       "      <td>0.0</td>\n",
       "      <td>NaN</td>\n",
       "      <td>0.0</td>\n",
       "      <td>NaN</td>\n",
       "      <td>-3.842595</td>\n",
       "      <td>NaN</td>\n",
       "      <td>-0.002804</td>\n",
       "    </tr>\n",
       "    <tr>\n",
       "      <th>47503</th>\n",
       "      <td>125948</td>\n",
       "      <td>0</td>\n",
       "      <td>1</td>\n",
       "      <td>0</td>\n",
       "      <td>0</td>\n",
       "      <td>True</td>\n",
       "      <td>13</td>\n",
       "      <td>True</td>\n",
       "      <td>0</td>\n",
       "      <td>0</td>\n",
       "      <td>...</td>\n",
       "      <td>0.0</td>\n",
       "      <td>0.0</td>\n",
       "      <td>0.0</td>\n",
       "      <td>0.0</td>\n",
       "      <td>0.0</td>\n",
       "      <td>0.0</td>\n",
       "      <td>-0.000574</td>\n",
       "      <td>0.000069</td>\n",
       "      <td>0.071088</td>\n",
       "      <td>-0.403502</td>\n",
       "    </tr>\n",
       "  </tbody>\n",
       "</table>\n",
       "<p>5 rows × 873 columns</p>\n",
       "</div>"
      ],
      "text/plain": [
       "        event_id  context_switch  no_pause_before_play  \\\n",
       "3635       61072               0                     0   \n",
       "43147      52788               0                     0   \n",
       "131621    144416               0                     1   \n",
       "659        11121               0                     0   \n",
       "47503     125948               0                     1   \n",
       "\n",
       "        short_pause_before_play  long_pause_before_play  \\\n",
       "3635                          0                       0   \n",
       "43147                         1                       1   \n",
       "131621                        0                       0   \n",
       "659                           0                       0   \n",
       "47503                         0                       0   \n",
       "\n",
       "        hist_user_behavior_is_shuffle  hour_of_day  premium  \\\n",
       "3635                             True           12    False   \n",
       "43147                           False            8     True   \n",
       "131621                           True            8     True   \n",
       "659                             False           13     True   \n",
       "47503                            True           13     True   \n",
       "\n",
       "        hist_user_behavior_reason_start_appload  \\\n",
       "3635                                          0   \n",
       "43147                                         0   \n",
       "131621                                        0   \n",
       "659                                           1   \n",
       "47503                                         0   \n",
       "\n",
       "        hist_user_behavior_reason_start_backbtn  ...  \\\n",
       "3635                                          0  ...   \n",
       "43147                                         0  ...   \n",
       "131621                                        0  ...   \n",
       "659                                           0  ...   \n",
       "47503                                         0  ...   \n",
       "\n",
       "        DIFF(tf.time_signature_3) by session_id  \\\n",
       "3635                                        NaN   \n",
       "43147                                       0.0   \n",
       "131621                                      0.0   \n",
       "659                                         NaN   \n",
       "47503                                       0.0   \n",
       "\n",
       "        DIFF(tf.time_signature_3) by session_id_not_skipped  \\\n",
       "3635                                                  0.0     \n",
       "43147                                                 0.0     \n",
       "131621                                                0.0     \n",
       "659                                                   0.0     \n",
       "47503                                                 0.0     \n",
       "\n",
       "        DIFF(tf.time_signature_4) by session_id  \\\n",
       "3635                                        NaN   \n",
       "43147                                       0.0   \n",
       "131621                                      0.0   \n",
       "659                                         NaN   \n",
       "47503                                       0.0   \n",
       "\n",
       "        DIFF(tf.time_signature_4) by session_id_not_skipped  \\\n",
       "3635                                                  0.0     \n",
       "43147                                                 0.0     \n",
       "131621                                                0.0     \n",
       "659                                                   0.0     \n",
       "47503                                                 0.0     \n",
       "\n",
       "        DIFF(tf.time_signature_5) by session_id  \\\n",
       "3635                                        NaN   \n",
       "43147                                       0.0   \n",
       "131621                                      0.0   \n",
       "659                                         NaN   \n",
       "47503                                       0.0   \n",
       "\n",
       "        DIFF(tf.time_signature_5) by session_id_not_skipped  \\\n",
       "3635                                                  0.0     \n",
       "43147                                                 0.0     \n",
       "131621                                                0.0     \n",
       "659                                                   0.0     \n",
       "47503                                                 0.0     \n",
       "\n",
       "        DIFF(tf.us_popularity_estimate) by session_id  \\\n",
       "3635                                              NaN   \n",
       "43147                                        2.062224   \n",
       "131621                                       0.009362   \n",
       "659                                               NaN   \n",
       "47503                                       -0.000574   \n",
       "\n",
       "        DIFF(tf.us_popularity_estimate) by session_id_not_skipped  \\\n",
       "3635                                            -0.020177           \n",
       "43147                                            0.007532           \n",
       "131621                                          -0.001848           \n",
       "659                                             -3.842595           \n",
       "47503                                            0.000069           \n",
       "\n",
       "        DIFF(tf.valence) by session_id  \\\n",
       "3635                               NaN   \n",
       "43147                        -0.180481   \n",
       "131621                       -0.105128   \n",
       "659                                NaN   \n",
       "47503                         0.071088   \n",
       "\n",
       "        DIFF(tf.valence) by session_id_not_skipped  \n",
       "3635                                     -0.119255  \n",
       "43147                                    -0.035074  \n",
       "131621                                    0.157186  \n",
       "659                                      -0.002804  \n",
       "47503                                    -0.403502  \n",
       "\n",
       "[5 rows x 873 columns]"
      ]
     },
     "execution_count": 20,
     "metadata": {},
     "output_type": "execute_result"
    }
   ],
   "source": [
    "X_test.head()"
   ]
  },
  {
   "cell_type": "code",
   "execution_count": 10,
   "metadata": {
    "colab": {
     "base_uri": "https://localhost:8080/"
    },
    "executionInfo": {
     "elapsed": 13,
     "status": "ok",
     "timestamp": 1668378234497,
     "user": {
      "displayName": "Andrew Chang",
      "userId": "09222661897572446793"
     },
     "user_tz": 300
    },
    "id": "tSMX04L7dHxQ",
    "outputId": "9f91608d-ac48-44c7-f241-d2048d9ca11e"
   },
   "outputs": [
    {
     "data": {
      "text/plain": [
       "3635      False\n",
       "43147     False\n",
       "131621    False\n",
       "659       False\n",
       "47503     False\n",
       "Name: not_skipped, dtype: bool"
      ]
     },
     "execution_count": 10,
     "metadata": {},
     "output_type": "execute_result"
    }
   ],
   "source": [
    "y_test.head()"
   ]
  },
  {
   "cell_type": "code",
   "execution_count": 11,
   "metadata": {
    "colab": {
     "base_uri": "https://localhost:8080/"
    },
    "executionInfo": {
     "elapsed": 10,
     "status": "ok",
     "timestamp": 1668378234497,
     "user": {
      "displayName": "Andrew Chang",
      "userId": "09222661897572446793"
     },
     "user_tz": 300
    },
    "id": "Ira-qYcydxQc",
    "outputId": "1c294f61-1015-4b4c-bad3-0165ba551c6b"
   },
   "outputs": [
    {
     "data": {
      "text/plain": [
       "StratifiedKFold(n_splits=5, random_state=None, shuffle=False)"
      ]
     },
     "execution_count": 11,
     "metadata": {},
     "output_type": "execute_result"
    }
   ],
   "source": [
    "skf = StratifiedKFold(n_splits=5)\n",
    "skf"
   ]
  },
  {
   "cell_type": "code",
   "execution_count": 14,
   "metadata": {
    "colab": {
     "base_uri": "https://localhost:8080/"
    },
    "executionInfo": {
     "elapsed": 621286,
     "status": "ok",
     "timestamp": 1668378855777,
     "user": {
      "displayName": "Andrew Chang",
      "userId": "09222661897572446793"
     },
     "user_tz": 300
    },
    "id": "XalMtRVbbZRR",
    "outputId": "69f4fdf4-8c66-439a-db4b-876f3c244b88"
   },
   "outputs": [
    {
     "name": "stderr",
     "output_type": "stream",
     "text": [
      "[Parallel(n_jobs=1)]: Using backend SequentialBackend with 1 concurrent workers.\n",
      "[Parallel(n_jobs=1)]: Done   5 out of   5 | elapsed:    2.1s finished\n"
     ]
    },
    {
     "ename": "ValueError",
     "evalue": "\nAll the 5 fits failed.\nIt is very likely that your model is misconfigured.\nYou can try to debug the error by setting error_score='raise'.\n\nBelow are more details about the failures:\n--------------------------------------------------------------------------------\n1 fits failed with the following error:\nTraceback (most recent call last):\n  File \"/Users/andrewchang/opt/anaconda3/envs/Springboard_DS_2022/lib/python3.8/site-packages/sklearn/model_selection/_validation.py\", line 686, in _fit_and_score\n    estimator.fit(X_train, y_train, **fit_params)\n  File \"/Users/andrewchang/opt/anaconda3/envs/Springboard_DS_2022/lib/python3.8/site-packages/sklearn/pipeline.py\", line 378, in fit\n    Xt = self._fit(X, y, **fit_params_steps)\n  File \"/Users/andrewchang/opt/anaconda3/envs/Springboard_DS_2022/lib/python3.8/site-packages/sklearn/pipeline.py\", line 336, in _fit\n    X, fitted_transformer = fit_transform_one_cached(\n  File \"/Users/andrewchang/opt/anaconda3/envs/Springboard_DS_2022/lib/python3.8/site-packages/joblib/memory.py\", line 349, in __call__\n    return self.func(*args, **kwargs)\n  File \"/Users/andrewchang/opt/anaconda3/envs/Springboard_DS_2022/lib/python3.8/site-packages/sklearn/pipeline.py\", line 870, in _fit_transform_one\n    res = transformer.fit_transform(X, y, **fit_params)\n  File \"/Users/andrewchang/opt/anaconda3/envs/Springboard_DS_2022/lib/python3.8/site-packages/sklearn/base.py\", line 870, in fit_transform\n    return self.fit(X, y, **fit_params).transform(X)\n  File \"/Users/andrewchang/opt/anaconda3/envs/Springboard_DS_2022/lib/python3.8/site-packages/sklearn/impute/_base.py\", line 345, in fit\n    X = self._validate_input(X, in_fit=True)\n  File \"/Users/andrewchang/opt/anaconda3/envs/Springboard_DS_2022/lib/python3.8/site-packages/sklearn/impute/_base.py\", line 302, in _validate_input\n    raise new_ve from None\nValueError: Cannot use median strategy with non-numeric data:\ncould not convert string to float: '0_0cb6babd-c91f-4ba9-b40c-9059dd131112'\n\n--------------------------------------------------------------------------------\n4 fits failed with the following error:\nTraceback (most recent call last):\n  File \"/Users/andrewchang/opt/anaconda3/envs/Springboard_DS_2022/lib/python3.8/site-packages/sklearn/model_selection/_validation.py\", line 686, in _fit_and_score\n    estimator.fit(X_train, y_train, **fit_params)\n  File \"/Users/andrewchang/opt/anaconda3/envs/Springboard_DS_2022/lib/python3.8/site-packages/sklearn/pipeline.py\", line 378, in fit\n    Xt = self._fit(X, y, **fit_params_steps)\n  File \"/Users/andrewchang/opt/anaconda3/envs/Springboard_DS_2022/lib/python3.8/site-packages/sklearn/pipeline.py\", line 336, in _fit\n    X, fitted_transformer = fit_transform_one_cached(\n  File \"/Users/andrewchang/opt/anaconda3/envs/Springboard_DS_2022/lib/python3.8/site-packages/joblib/memory.py\", line 349, in __call__\n    return self.func(*args, **kwargs)\n  File \"/Users/andrewchang/opt/anaconda3/envs/Springboard_DS_2022/lib/python3.8/site-packages/sklearn/pipeline.py\", line 870, in _fit_transform_one\n    res = transformer.fit_transform(X, y, **fit_params)\n  File \"/Users/andrewchang/opt/anaconda3/envs/Springboard_DS_2022/lib/python3.8/site-packages/sklearn/base.py\", line 870, in fit_transform\n    return self.fit(X, y, **fit_params).transform(X)\n  File \"/Users/andrewchang/opt/anaconda3/envs/Springboard_DS_2022/lib/python3.8/site-packages/sklearn/impute/_base.py\", line 345, in fit\n    X = self._validate_input(X, in_fit=True)\n  File \"/Users/andrewchang/opt/anaconda3/envs/Springboard_DS_2022/lib/python3.8/site-packages/sklearn/impute/_base.py\", line 302, in _validate_input\n    raise new_ve from None\nValueError: Cannot use median strategy with non-numeric data:\ncould not convert string to float: '0_0e3049ff-fd6e-48b5-9c2f-340f3db7a7cc'\n",
     "output_type": "error",
     "traceback": [
      "\u001b[0;31m---------------------------------------------------------------------------\u001b[0m",
      "\u001b[0;31mValueError\u001b[0m                                Traceback (most recent call last)",
      "Cell \u001b[0;32mIn [14], line 5\u001b[0m\n\u001b[1;32m      1\u001b[0m RF_pipe \u001b[38;5;241m=\u001b[39m make_pipeline(\n\u001b[1;32m      2\u001b[0m     SimpleImputer(strategy\u001b[38;5;241m=\u001b[39m\u001b[38;5;124m'\u001b[39m\u001b[38;5;124mmedian\u001b[39m\u001b[38;5;124m'\u001b[39m),\n\u001b[1;32m      3\u001b[0m     RandomForestClassifier(random_state\u001b[38;5;241m=\u001b[39m\u001b[38;5;241m23\u001b[39m)\n\u001b[1;32m      4\u001b[0m )\n\u001b[0;32m----> 5\u001b[0m rf_cv_results \u001b[38;5;241m=\u001b[39m \u001b[43mcross_validate\u001b[49m\u001b[43m(\u001b[49m\u001b[43mRF_pipe\u001b[49m\u001b[43m,\u001b[49m\u001b[43m \u001b[49m\u001b[43mX_train\u001b[49m\u001b[43m,\u001b[49m\u001b[43m \u001b[49m\u001b[43my_train\u001b[49m\u001b[43m,\u001b[49m\u001b[43m \u001b[49m\u001b[43mcv\u001b[49m\u001b[38;5;241;43m=\u001b[39;49m\u001b[38;5;241;43m5\u001b[39;49m\u001b[43m,\u001b[49m\u001b[43m \u001b[49m\u001b[43mverbose\u001b[49m\u001b[38;5;241;43m=\u001b[39;49m\u001b[38;5;241;43m1\u001b[39;49m\u001b[43m)\u001b[49m\n",
      "File \u001b[0;32m~/opt/anaconda3/envs/Springboard_DS_2022/lib/python3.8/site-packages/sklearn/model_selection/_validation.py:285\u001b[0m, in \u001b[0;36mcross_validate\u001b[0;34m(estimator, X, y, groups, scoring, cv, n_jobs, verbose, fit_params, pre_dispatch, return_train_score, return_estimator, error_score)\u001b[0m\n\u001b[1;32m    265\u001b[0m parallel \u001b[38;5;241m=\u001b[39m Parallel(n_jobs\u001b[38;5;241m=\u001b[39mn_jobs, verbose\u001b[38;5;241m=\u001b[39mverbose, pre_dispatch\u001b[38;5;241m=\u001b[39mpre_dispatch)\n\u001b[1;32m    266\u001b[0m results \u001b[38;5;241m=\u001b[39m parallel(\n\u001b[1;32m    267\u001b[0m     delayed(_fit_and_score)(\n\u001b[1;32m    268\u001b[0m         clone(estimator),\n\u001b[0;32m   (...)\u001b[0m\n\u001b[1;32m    282\u001b[0m     \u001b[38;5;28;01mfor\u001b[39;00m train, test \u001b[38;5;129;01min\u001b[39;00m cv\u001b[38;5;241m.\u001b[39msplit(X, y, groups)\n\u001b[1;32m    283\u001b[0m )\n\u001b[0;32m--> 285\u001b[0m \u001b[43m_warn_or_raise_about_fit_failures\u001b[49m\u001b[43m(\u001b[49m\u001b[43mresults\u001b[49m\u001b[43m,\u001b[49m\u001b[43m \u001b[49m\u001b[43merror_score\u001b[49m\u001b[43m)\u001b[49m\n\u001b[1;32m    287\u001b[0m \u001b[38;5;66;03m# For callabe scoring, the return type is only know after calling. If the\u001b[39;00m\n\u001b[1;32m    288\u001b[0m \u001b[38;5;66;03m# return type is a dictionary, the error scores can now be inserted with\u001b[39;00m\n\u001b[1;32m    289\u001b[0m \u001b[38;5;66;03m# the correct key.\u001b[39;00m\n\u001b[1;32m    290\u001b[0m \u001b[38;5;28;01mif\u001b[39;00m callable(scoring):\n",
      "File \u001b[0;32m~/opt/anaconda3/envs/Springboard_DS_2022/lib/python3.8/site-packages/sklearn/model_selection/_validation.py:367\u001b[0m, in \u001b[0;36m_warn_or_raise_about_fit_failures\u001b[0;34m(results, error_score)\u001b[0m\n\u001b[1;32m    360\u001b[0m \u001b[38;5;28;01mif\u001b[39;00m num_failed_fits \u001b[38;5;241m==\u001b[39m num_fits:\n\u001b[1;32m    361\u001b[0m     all_fits_failed_message \u001b[38;5;241m=\u001b[39m (\n\u001b[1;32m    362\u001b[0m         \u001b[38;5;124mf\u001b[39m\u001b[38;5;124m\"\u001b[39m\u001b[38;5;130;01m\\n\u001b[39;00m\u001b[38;5;124mAll the \u001b[39m\u001b[38;5;132;01m{\u001b[39;00mnum_fits\u001b[38;5;132;01m}\u001b[39;00m\u001b[38;5;124m fits failed.\u001b[39m\u001b[38;5;130;01m\\n\u001b[39;00m\u001b[38;5;124m\"\u001b[39m\n\u001b[1;32m    363\u001b[0m         \u001b[38;5;124m\"\u001b[39m\u001b[38;5;124mIt is very likely that your model is misconfigured.\u001b[39m\u001b[38;5;130;01m\\n\u001b[39;00m\u001b[38;5;124m\"\u001b[39m\n\u001b[1;32m    364\u001b[0m         \u001b[38;5;124m\"\u001b[39m\u001b[38;5;124mYou can try to debug the error by setting error_score=\u001b[39m\u001b[38;5;124m'\u001b[39m\u001b[38;5;124mraise\u001b[39m\u001b[38;5;124m'\u001b[39m\u001b[38;5;124m.\u001b[39m\u001b[38;5;130;01m\\n\u001b[39;00m\u001b[38;5;130;01m\\n\u001b[39;00m\u001b[38;5;124m\"\u001b[39m\n\u001b[1;32m    365\u001b[0m         \u001b[38;5;124mf\u001b[39m\u001b[38;5;124m\"\u001b[39m\u001b[38;5;124mBelow are more details about the failures:\u001b[39m\u001b[38;5;130;01m\\n\u001b[39;00m\u001b[38;5;132;01m{\u001b[39;00mfit_errors_summary\u001b[38;5;132;01m}\u001b[39;00m\u001b[38;5;124m\"\u001b[39m\n\u001b[1;32m    366\u001b[0m     )\n\u001b[0;32m--> 367\u001b[0m     \u001b[38;5;28;01mraise\u001b[39;00m \u001b[38;5;167;01mValueError\u001b[39;00m(all_fits_failed_message)\n\u001b[1;32m    369\u001b[0m \u001b[38;5;28;01melse\u001b[39;00m:\n\u001b[1;32m    370\u001b[0m     some_fits_failed_message \u001b[38;5;241m=\u001b[39m (\n\u001b[1;32m    371\u001b[0m         \u001b[38;5;124mf\u001b[39m\u001b[38;5;124m\"\u001b[39m\u001b[38;5;130;01m\\n\u001b[39;00m\u001b[38;5;132;01m{\u001b[39;00mnum_failed_fits\u001b[38;5;132;01m}\u001b[39;00m\u001b[38;5;124m fits failed out of a total of \u001b[39m\u001b[38;5;132;01m{\u001b[39;00mnum_fits\u001b[38;5;132;01m}\u001b[39;00m\u001b[38;5;124m.\u001b[39m\u001b[38;5;130;01m\\n\u001b[39;00m\u001b[38;5;124m\"\u001b[39m\n\u001b[1;32m    372\u001b[0m         \u001b[38;5;124m\"\u001b[39m\u001b[38;5;124mThe score on these train-test partitions for these parameters\u001b[39m\u001b[38;5;124m\"\u001b[39m\n\u001b[0;32m   (...)\u001b[0m\n\u001b[1;32m    376\u001b[0m         \u001b[38;5;124mf\u001b[39m\u001b[38;5;124m\"\u001b[39m\u001b[38;5;124mBelow are more details about the failures:\u001b[39m\u001b[38;5;130;01m\\n\u001b[39;00m\u001b[38;5;132;01m{\u001b[39;00mfit_errors_summary\u001b[38;5;132;01m}\u001b[39;00m\u001b[38;5;124m\"\u001b[39m\n\u001b[1;32m    377\u001b[0m     )\n",
      "\u001b[0;31mValueError\u001b[0m: \nAll the 5 fits failed.\nIt is very likely that your model is misconfigured.\nYou can try to debug the error by setting error_score='raise'.\n\nBelow are more details about the failures:\n--------------------------------------------------------------------------------\n1 fits failed with the following error:\nTraceback (most recent call last):\n  File \"/Users/andrewchang/opt/anaconda3/envs/Springboard_DS_2022/lib/python3.8/site-packages/sklearn/model_selection/_validation.py\", line 686, in _fit_and_score\n    estimator.fit(X_train, y_train, **fit_params)\n  File \"/Users/andrewchang/opt/anaconda3/envs/Springboard_DS_2022/lib/python3.8/site-packages/sklearn/pipeline.py\", line 378, in fit\n    Xt = self._fit(X, y, **fit_params_steps)\n  File \"/Users/andrewchang/opt/anaconda3/envs/Springboard_DS_2022/lib/python3.8/site-packages/sklearn/pipeline.py\", line 336, in _fit\n    X, fitted_transformer = fit_transform_one_cached(\n  File \"/Users/andrewchang/opt/anaconda3/envs/Springboard_DS_2022/lib/python3.8/site-packages/joblib/memory.py\", line 349, in __call__\n    return self.func(*args, **kwargs)\n  File \"/Users/andrewchang/opt/anaconda3/envs/Springboard_DS_2022/lib/python3.8/site-packages/sklearn/pipeline.py\", line 870, in _fit_transform_one\n    res = transformer.fit_transform(X, y, **fit_params)\n  File \"/Users/andrewchang/opt/anaconda3/envs/Springboard_DS_2022/lib/python3.8/site-packages/sklearn/base.py\", line 870, in fit_transform\n    return self.fit(X, y, **fit_params).transform(X)\n  File \"/Users/andrewchang/opt/anaconda3/envs/Springboard_DS_2022/lib/python3.8/site-packages/sklearn/impute/_base.py\", line 345, in fit\n    X = self._validate_input(X, in_fit=True)\n  File \"/Users/andrewchang/opt/anaconda3/envs/Springboard_DS_2022/lib/python3.8/site-packages/sklearn/impute/_base.py\", line 302, in _validate_input\n    raise new_ve from None\nValueError: Cannot use median strategy with non-numeric data:\ncould not convert string to float: '0_0cb6babd-c91f-4ba9-b40c-9059dd131112'\n\n--------------------------------------------------------------------------------\n4 fits failed with the following error:\nTraceback (most recent call last):\n  File \"/Users/andrewchang/opt/anaconda3/envs/Springboard_DS_2022/lib/python3.8/site-packages/sklearn/model_selection/_validation.py\", line 686, in _fit_and_score\n    estimator.fit(X_train, y_train, **fit_params)\n  File \"/Users/andrewchang/opt/anaconda3/envs/Springboard_DS_2022/lib/python3.8/site-packages/sklearn/pipeline.py\", line 378, in fit\n    Xt = self._fit(X, y, **fit_params_steps)\n  File \"/Users/andrewchang/opt/anaconda3/envs/Springboard_DS_2022/lib/python3.8/site-packages/sklearn/pipeline.py\", line 336, in _fit\n    X, fitted_transformer = fit_transform_one_cached(\n  File \"/Users/andrewchang/opt/anaconda3/envs/Springboard_DS_2022/lib/python3.8/site-packages/joblib/memory.py\", line 349, in __call__\n    return self.func(*args, **kwargs)\n  File \"/Users/andrewchang/opt/anaconda3/envs/Springboard_DS_2022/lib/python3.8/site-packages/sklearn/pipeline.py\", line 870, in _fit_transform_one\n    res = transformer.fit_transform(X, y, **fit_params)\n  File \"/Users/andrewchang/opt/anaconda3/envs/Springboard_DS_2022/lib/python3.8/site-packages/sklearn/base.py\", line 870, in fit_transform\n    return self.fit(X, y, **fit_params).transform(X)\n  File \"/Users/andrewchang/opt/anaconda3/envs/Springboard_DS_2022/lib/python3.8/site-packages/sklearn/impute/_base.py\", line 345, in fit\n    X = self._validate_input(X, in_fit=True)\n  File \"/Users/andrewchang/opt/anaconda3/envs/Springboard_DS_2022/lib/python3.8/site-packages/sklearn/impute/_base.py\", line 302, in _validate_input\n    raise new_ve from None\nValueError: Cannot use median strategy with non-numeric data:\ncould not convert string to float: '0_0e3049ff-fd6e-48b5-9c2f-340f3db7a7cc'\n"
     ]
    }
   ],
   "source": [
    "RF_pipe = make_pipeline(\n",
    "    SimpleImputer(strategy='median'),\n",
    "    RandomForestClassifier(random_state=23)\n",
    ")\n",
    "rf_cv_results = cross_validate(RF_pipe, X_train, y_train, cv=5, verbose=1)"
   ]
  },
  {
   "cell_type": "code",
   "execution_count": 13,
   "metadata": {
    "colab": {
     "base_uri": "https://localhost:8080/"
    },
    "executionInfo": {
     "elapsed": 691,
     "status": "ok",
     "timestamp": 1668379209190,
     "user": {
      "displayName": "Andrew Chang",
      "userId": "09222661897572446793"
     },
     "user_tz": 300
    },
    "id": "1d0SWmbYeITL",
    "outputId": "c2596342-90f3-4daf-e0c0-1f0c8231c1ff"
   },
   "outputs": [
    {
     "ename": "NameError",
     "evalue": "name 'rf_cv_results' is not defined",
     "output_type": "error",
     "traceback": [
      "\u001b[0;31m---------------------------------------------------------------------------\u001b[0m",
      "\u001b[0;31mNameError\u001b[0m                                 Traceback (most recent call last)",
      "Cell \u001b[0;32mIn [13], line 1\u001b[0m\n\u001b[0;32m----> 1\u001b[0m rf_cv_scores \u001b[38;5;241m=\u001b[39m \u001b[43mrf_cv_results\u001b[49m[\u001b[38;5;124m'\u001b[39m\u001b[38;5;124mtest_score\u001b[39m\u001b[38;5;124m'\u001b[39m]\n\u001b[1;32m      2\u001b[0m rf_cv_scores\n",
      "\u001b[0;31mNameError\u001b[0m: name 'rf_cv_results' is not defined"
     ]
    }
   ],
   "source": [
    "rf_cv_scores = rf_cv_results['test_score']\n",
    "rf_cv_scores"
   ]
  },
  {
   "cell_type": "code",
   "execution_count": 13,
   "metadata": {
    "colab": {
     "base_uri": "https://localhost:8080/"
    },
    "executionInfo": {
     "elapsed": 5,
     "status": "ok",
     "timestamp": 1668379564123,
     "user": {
      "displayName": "Andrew Chang",
      "userId": "09222661897572446793"
     },
     "user_tz": 300
    },
    "id": "8HBiIH47K8aT",
    "outputId": "2db3ab3f-8933-4753-f171-fe43dba2ec5e"
   },
   "outputs": [
    {
     "data": {
      "text/plain": [
       "{'fit_time': array([125.82919288, 118.64479423, 126.09402227, 118.32470322,\n",
       "        118.53504491]),\n",
       " 'score_time': array([2.99903584, 3.10525823, 2.46587491, 2.67223239, 2.42613626]),\n",
       " 'test_score': array([1., 1., 1., 1., 1.])}"
      ]
     },
     "execution_count": 13,
     "metadata": {},
     "output_type": "execute_result"
    }
   ],
   "source": [
    "rf_cv_results"
   ]
  },
  {
   "cell_type": "code",
   "execution_count": null,
   "metadata": {
    "id": "R3JDXwLxF77V"
   },
   "outputs": [],
   "source": [
    "plt.subplots(figsize=(10, 5))\n",
    "rf_cv_results.\n",
    "\n",
    "imps = rf_grid_cv.best_estimator_.named_steps.randomforestregressor.feature_importances_\n",
    "rf_feat_imps = pd.Series(imps, index=X_train.columns).sort_values(ascending=False)\n",
    "rf_feat_imps.plot(kind='bar')\n",
    "plt.xlabel('features')\n",
    "plt.ylabel('importance')\n",
    "plt.title('Best random forest regressor feature importances');"
   ]
  },
  {
   "cell_type": "code",
   "execution_count": 15,
   "metadata": {
    "colab": {
     "base_uri": "https://localhost:8080/",
     "height": 888
    },
    "executionInfo": {
     "elapsed": 172518,
     "status": "ok",
     "timestamp": 1668380702262,
     "user": {
      "displayName": "Andrew Chang",
      "userId": "09222661897572446793"
     },
     "user_tz": 300
    },
    "id": "B3XYxLwvMKAz",
    "outputId": "f2adf426-cb4e-4614-b71c-bf005e7c59ca"
   },
   "outputs": [
    {
     "ename": "ValueError",
     "evalue": "Cannot use median strategy with non-numeric data:\ncould not convert string to float: '0_0e3049ff-fd6e-48b5-9c2f-340f3db7a7cc'",
     "output_type": "error",
     "traceback": [
      "\u001b[0;31m---------------------------------------------------------------------------\u001b[0m",
      "\u001b[0;31mValueError\u001b[0m                                Traceback (most recent call last)",
      "Cell \u001b[0;32mIn [15], line 2\u001b[0m\n\u001b[1;32m      1\u001b[0m imp_median \u001b[38;5;241m=\u001b[39m SimpleImputer(missing_values\u001b[38;5;241m=\u001b[39mnp\u001b[38;5;241m.\u001b[39mnan, strategy\u001b[38;5;241m=\u001b[39m\u001b[38;5;124m'\u001b[39m\u001b[38;5;124mmedian\u001b[39m\u001b[38;5;124m'\u001b[39m)\n\u001b[0;32m----> 2\u001b[0m X_train2 \u001b[38;5;241m=\u001b[39m \u001b[43mimp_median\u001b[49m\u001b[38;5;241;43m.\u001b[39;49m\u001b[43mfit_transform\u001b[49m\u001b[43m(\u001b[49m\u001b[43mX_train\u001b[49m\u001b[43m)\u001b[49m\n\u001b[1;32m      3\u001b[0m forest \u001b[38;5;241m=\u001b[39m RandomForestClassifier(random_state\u001b[38;5;241m=\u001b[39m\u001b[38;5;241m0\u001b[39m)\n\u001b[1;32m      5\u001b[0m forest\u001b[38;5;241m.\u001b[39mfit(X_train2, y_train)\n",
      "File \u001b[0;32m~/opt/anaconda3/envs/Springboard_DS_2022/lib/python3.8/site-packages/sklearn/base.py:867\u001b[0m, in \u001b[0;36mTransformerMixin.fit_transform\u001b[0;34m(self, X, y, **fit_params)\u001b[0m\n\u001b[1;32m    863\u001b[0m \u001b[38;5;66;03m# non-optimized default implementation; override when a better\u001b[39;00m\n\u001b[1;32m    864\u001b[0m \u001b[38;5;66;03m# method is possible for a given clustering algorithm\u001b[39;00m\n\u001b[1;32m    865\u001b[0m \u001b[38;5;28;01mif\u001b[39;00m y \u001b[38;5;129;01mis\u001b[39;00m \u001b[38;5;28;01mNone\u001b[39;00m:\n\u001b[1;32m    866\u001b[0m     \u001b[38;5;66;03m# fit method of arity 1 (unsupervised transformation)\u001b[39;00m\n\u001b[0;32m--> 867\u001b[0m     \u001b[38;5;28;01mreturn\u001b[39;00m \u001b[38;5;28;43mself\u001b[39;49m\u001b[38;5;241;43m.\u001b[39;49m\u001b[43mfit\u001b[49m\u001b[43m(\u001b[49m\u001b[43mX\u001b[49m\u001b[43m,\u001b[49m\u001b[43m \u001b[49m\u001b[38;5;241;43m*\u001b[39;49m\u001b[38;5;241;43m*\u001b[39;49m\u001b[43mfit_params\u001b[49m\u001b[43m)\u001b[49m\u001b[38;5;241m.\u001b[39mtransform(X)\n\u001b[1;32m    868\u001b[0m \u001b[38;5;28;01melse\u001b[39;00m:\n\u001b[1;32m    869\u001b[0m     \u001b[38;5;66;03m# fit method of arity 2 (supervised transformation)\u001b[39;00m\n\u001b[1;32m    870\u001b[0m     \u001b[38;5;28;01mreturn\u001b[39;00m \u001b[38;5;28mself\u001b[39m\u001b[38;5;241m.\u001b[39mfit(X, y, \u001b[38;5;241m*\u001b[39m\u001b[38;5;241m*\u001b[39mfit_params)\u001b[38;5;241m.\u001b[39mtransform(X)\n",
      "File \u001b[0;32m~/opt/anaconda3/envs/Springboard_DS_2022/lib/python3.8/site-packages/sklearn/impute/_base.py:345\u001b[0m, in \u001b[0;36mSimpleImputer.fit\u001b[0;34m(self, X, y)\u001b[0m\n\u001b[1;32m    336\u001b[0m \u001b[38;5;28;01mif\u001b[39;00m \u001b[38;5;28mself\u001b[39m\u001b[38;5;241m.\u001b[39mverbose \u001b[38;5;241m!=\u001b[39m \u001b[38;5;124m\"\u001b[39m\u001b[38;5;124mdeprecated\u001b[39m\u001b[38;5;124m\"\u001b[39m:\n\u001b[1;32m    337\u001b[0m     warnings\u001b[38;5;241m.\u001b[39mwarn(\n\u001b[1;32m    338\u001b[0m         \u001b[38;5;124m\"\u001b[39m\u001b[38;5;124mThe \u001b[39m\u001b[38;5;124m'\u001b[39m\u001b[38;5;124mverbose\u001b[39m\u001b[38;5;124m'\u001b[39m\u001b[38;5;124m parameter was deprecated in version \u001b[39m\u001b[38;5;124m\"\u001b[39m\n\u001b[1;32m    339\u001b[0m         \u001b[38;5;124m\"\u001b[39m\u001b[38;5;124m1.1 and will be removed in 1.3. A warning will \u001b[39m\u001b[38;5;124m\"\u001b[39m\n\u001b[0;32m   (...)\u001b[0m\n\u001b[1;32m    342\u001b[0m         \u001b[38;5;167;01mFutureWarning\u001b[39;00m,\n\u001b[1;32m    343\u001b[0m     )\n\u001b[0;32m--> 345\u001b[0m X \u001b[38;5;241m=\u001b[39m \u001b[38;5;28;43mself\u001b[39;49m\u001b[38;5;241;43m.\u001b[39;49m\u001b[43m_validate_input\u001b[49m\u001b[43m(\u001b[49m\u001b[43mX\u001b[49m\u001b[43m,\u001b[49m\u001b[43m \u001b[49m\u001b[43min_fit\u001b[49m\u001b[38;5;241;43m=\u001b[39;49m\u001b[38;5;28;43;01mTrue\u001b[39;49;00m\u001b[43m)\u001b[49m\n\u001b[1;32m    347\u001b[0m \u001b[38;5;66;03m# default fill_value is 0 for numerical input and \"missing_value\"\u001b[39;00m\n\u001b[1;32m    348\u001b[0m \u001b[38;5;66;03m# otherwise\u001b[39;00m\n\u001b[1;32m    349\u001b[0m \u001b[38;5;28;01mif\u001b[39;00m \u001b[38;5;28mself\u001b[39m\u001b[38;5;241m.\u001b[39mfill_value \u001b[38;5;129;01mis\u001b[39;00m \u001b[38;5;28;01mNone\u001b[39;00m:\n",
      "File \u001b[0;32m~/opt/anaconda3/envs/Springboard_DS_2022/lib/python3.8/site-packages/sklearn/impute/_base.py:302\u001b[0m, in \u001b[0;36mSimpleImputer._validate_input\u001b[0;34m(self, X, in_fit)\u001b[0m\n\u001b[1;32m    296\u001b[0m \u001b[38;5;28;01mif\u001b[39;00m \u001b[38;5;124m\"\u001b[39m\u001b[38;5;124mcould not convert\u001b[39m\u001b[38;5;124m\"\u001b[39m \u001b[38;5;129;01min\u001b[39;00m \u001b[38;5;28mstr\u001b[39m(ve):\n\u001b[1;32m    297\u001b[0m     new_ve \u001b[38;5;241m=\u001b[39m \u001b[38;5;167;01mValueError\u001b[39;00m(\n\u001b[1;32m    298\u001b[0m         \u001b[38;5;124m\"\u001b[39m\u001b[38;5;124mCannot use \u001b[39m\u001b[38;5;132;01m{}\u001b[39;00m\u001b[38;5;124m strategy with non-numeric data:\u001b[39m\u001b[38;5;130;01m\\n\u001b[39;00m\u001b[38;5;132;01m{}\u001b[39;00m\u001b[38;5;124m\"\u001b[39m\u001b[38;5;241m.\u001b[39mformat(\n\u001b[1;32m    299\u001b[0m             \u001b[38;5;28mself\u001b[39m\u001b[38;5;241m.\u001b[39mstrategy, ve\n\u001b[1;32m    300\u001b[0m         )\n\u001b[1;32m    301\u001b[0m     )\n\u001b[0;32m--> 302\u001b[0m     \u001b[38;5;28;01mraise\u001b[39;00m new_ve \u001b[38;5;28;01mfrom\u001b[39;00m \u001b[38;5;28mNone\u001b[39m\n\u001b[1;32m    303\u001b[0m \u001b[38;5;28;01melse\u001b[39;00m:\n\u001b[1;32m    304\u001b[0m     \u001b[38;5;28;01mraise\u001b[39;00m ve\n",
      "\u001b[0;31mValueError\u001b[0m: Cannot use median strategy with non-numeric data:\ncould not convert string to float: '0_0e3049ff-fd6e-48b5-9c2f-340f3db7a7cc'"
     ]
    }
   ],
   "source": [
    "imp_median = SimpleImputer(missing_values=np.nan, strategy='median')\n",
    "X_train2 = imp_median.fit_transform(X_train)\n",
    "forest = RandomForestClassifier(random_state=0)\n",
    "\n",
    "forest.fit(X_train2, y_train)\n",
    "\n",
    "importances = pd.DataFrame({'FEATURE':X_train2.columns,'IMPORTANCE':np.round(forest.feature_importances_,3)})\n",
    "importances = importances.sort_values('IMPORTANCE',ascending=False).set_index('FEATURE')\n",
    "\n",
    "print(importances)\n",
    "importances.plot.bar()\n",
    "plt.show()"
   ]
  },
  {
   "cell_type": "code",
   "execution_count": 22,
   "metadata": {
    "colab": {
     "base_uri": "https://localhost:8080/"
    },
    "executionInfo": {
     "elapsed": 9,
     "status": "ok",
     "timestamp": 1668384987498,
     "user": {
      "displayName": "Andrew Chang",
      "userId": "09222661897572446793"
     },
     "user_tz": 300
    },
    "id": "bVNmTImTNOjV",
    "outputId": "460096d5-d79f-46cc-a7ea-b397ef6beaef"
   },
   "outputs": [
    {
     "name": "stdout",
     "output_type": "stream",
     "text": [
      "                                                    IMPORTANCE\n",
      "FEATURE                                                       \n",
      "CUM_MEAN(acous_rmse_to_mean_noskip) by session_id        0.145\n",
      "CUM_SUM(acous_rmse_to_mean_noskip) by session_id         0.138\n",
      "CUM_MIN(acous_rmse_to_mean_noskip) by session_id         0.126\n",
      "acous_rmse_to_mean_noskip                                0.115\n",
      "CUM_MAX(acous_rmse_to_mean_noskip) by session_id         0.104\n",
      "DIFF(acous_rmse_to_mean_noskip) by session_id            0.048\n",
      "tf.PERCENT_TRUE(log.not_skipped)                         0.033\n",
      "hist_user_behavior_reason_start_trackdone                0.030\n",
      "tf.PERCENT_TRUE(log.skip_3)                              0.023\n",
      "tf.SUM(log.acous_rmse_to_mean_noskip)                    0.016\n",
      "hist_user_behavior_reason_start_fwdbtn                   0.014\n",
      "CUM_SUM(hist_user_behavior_reason_start_trackdo...       0.011\n",
      "CUM_MEAN(hist_user_behavior_reason_start_trackd...       0.009\n",
      "tf.MIN(log.acous_rmse_to_mean_noskip)                    0.009\n",
      "tf.PERCENT_TRUE(log.skip_1)                              0.007\n",
      "tf.PERCENT_TRUE(log.skip_2)                              0.007\n",
      "CUM_MEAN(hist_user_behavior_reason_start_fwdbtn...       0.006\n",
      "tf.MAX(log.acous_rmse_to_mean_noskip)                    0.006\n",
      "tf.MEAN(log.acous_rmse_to_mean_noskip)                   0.005\n",
      "short_pause_before_play                                  0.004\n",
      "tf.COUNT(log)                                            0.003\n",
      "tf.MIN(log.hist_user_behavior_reason_start_trac...       0.003\n",
      "CUM_SUM(hist_user_behavior_reason_start_fwdbtn)...       0.003\n",
      "tf.MEAN(log.hist_user_behavior_reason_start_fwd...       0.003\n",
      "tf.MEAN(log.hist_user_behavior_reason_start_tra...       0.003\n",
      "DIFF(short_pause_before_play) by session_id              0.002\n",
      "tf.MIN(log.no_pause_before_play)                         0.002\n",
      "tf.SUM(log.no_pause_before_play)                         0.002\n",
      "CUM_MEAN(acous_rmse_to_mean) by session_id               0.002\n",
      "long_pause_before_play                                   0.002\n",
      "CUM_MIN(acous_rmse_to_mean) by session_id                0.002\n",
      "DIFF(hour_of_day) by session_id                          0.002\n",
      "tf.SUM(log.acous_mah_dist_to_mean)                       0.002\n",
      "acous_rmse_to_mean                                       0.002\n",
      "no_pause_before_play                                     0.002\n",
      "tf.NUM_UNIQUE(log.session_id)                            0.002\n",
      "tf.MAX(log.hist_user_behavior_reason_start_trac...       0.002\n",
      "DIFF(hist_user_behavior_reason_start_trackdone)...       0.002\n",
      "CUM_MEAN(acous_rmse_to_previous) by session_id           0.001\n",
      "tf.SUM(log.session_position)                             0.001\n",
      "tf.SUM(log.hour_of_day)                                  0.001\n",
      "CUM_SUM(tf.us_popularity_estimate) by session_id         0.001\n",
      "CUM_SUM(acous_rmse_to_previous) by session_id            0.001\n",
      "CUM_MAX(tf.acoustic_vector_0) by session_id              0.001\n",
      "tf.MIN(log.hist_user_behavior_reason_start_fwdbtn)       0.001\n",
      "DIFF(hist_user_behavior_reason_start_fwdbtn) by...       0.001\n",
      "CUM_SUM(acous_rmse_to_mean) by session_id                0.001\n",
      "CUM_MEAN(short_pause_before_play) by session_id          0.001\n",
      "CUM_MEAN(tf.acoustic_vector_0) by session_id             0.001\n",
      "tf.MAX(log.hist_user_behavior_reason_start_back...       0.001\n"
     ]
    }
   ],
   "source": [
    "print(importances[0:50])"
   ]
  }
 ],
 "metadata": {
  "accelerator": "GPU",
  "colab": {
   "authorship_tag": "ABX9TyMU2d9kZBsaS/ZzcD4UyLWN",
   "provenance": []
  },
  "gpuClass": "standard",
  "kernelspec": {
   "display_name": "Python 3 (ipykernel)",
   "language": "python",
   "name": "python3"
  },
  "language_info": {
   "codemirror_mode": {
    "name": "ipython",
    "version": 3
   },
   "file_extension": ".py",
   "mimetype": "text/x-python",
   "name": "python",
   "nbconvert_exporter": "python",
   "pygments_lexer": "ipython3",
   "version": "3.8.13"
  }
 },
 "nbformat": 4,
 "nbformat_minor": 1
}
