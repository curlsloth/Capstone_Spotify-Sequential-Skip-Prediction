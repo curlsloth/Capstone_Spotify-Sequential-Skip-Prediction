{
 "cells": [
  {
   "cell_type": "code",
   "execution_count": 1,
   "id": "733770f7",
   "metadata": {},
   "outputs": [],
   "source": [
    "import pandas as pd\n",
    "import numpy as np\n",
    "import os\n",
    "import pickle\n",
    "import matplotlib.pyplot as plt\n",
    "import seaborn as sns\n",
    "from sklearn import __version__ as sklearn_version\n",
    "from sklearn.decomposition import PCA\n",
    "from sklearn.preprocessing import scale\n",
    "from sklearn.model_selection import train_test_split, cross_validate, GridSearchCV, learning_curve, StratifiedKFold\n",
    "from sklearn.preprocessing import StandardScaler, MinMaxScaler\n",
    "from sklearn.dummy import DummyRegressor\n",
    "from sklearn.linear_model import LinearRegression\n",
    "from sklearn.ensemble import RandomForestClassifier\n",
    "from sklearn.metrics import r2_score, mean_squared_error, mean_absolute_error, confusion_matrix, classification_report\n",
    "from sklearn.pipeline import make_pipeline\n",
    "from sklearn.impute import SimpleImputer\n",
    "from sklearn.feature_selection import SelectKBest, f_regression\n",
    "from sklearn.svm import SVC\n",
    "from sklearn.cluster import KMeans, MiniBatchKMeans\n",
    "\n",
    "import datetime\n",
    "\n",
    "#from library.sb_utils import save_file"
   ]
  },
  {
   "cell_type": "code",
   "execution_count": 2,
   "id": "0728094b",
   "metadata": {},
   "outputs": [],
   "source": [
    "import tarfile\n",
    "import io\n",
    "\n",
    "tar = tarfile.open('../data/raw/20181120_track_features.tar.gz', 'r:gz')\n",
    "csv_files = tar.getnames()\n",
    "\n",
    "df_list = []\n",
    "\n",
    "for csv_file in [csv_files[2], csv_files[4]]:\n",
    "    csv_contents = tar.extractfile(csv_file).read()\n",
    "    df_list.append(pd.read_csv(io.BytesIO(csv_contents), encoding='utf8'))\n",
    "\n",
    "tf_df = pd.concat(df_list, ignore_index=True)\n",
    "del df_list\n"
   ]
  },
  {
   "cell_type": "code",
   "execution_count": 3,
   "id": "cb85b1ad",
   "metadata": {
    "scrolled": true
   },
   "outputs": [
    {
     "name": "stdout",
     "output_type": "stream",
     "text": [
      "<class 'pandas.core.frame.DataFrame'>\n",
      "RangeIndex: 3706388 entries, 0 to 3706387\n",
      "Data columns (total 30 columns):\n",
      " #   Column                  Dtype  \n",
      "---  ------                  -----  \n",
      " 0   track_id                object \n",
      " 1   duration                float64\n",
      " 2   release_year            int64  \n",
      " 3   us_popularity_estimate  float64\n",
      " 4   acousticness            float64\n",
      " 5   beat_strength           float64\n",
      " 6   bounciness              float64\n",
      " 7   danceability            float64\n",
      " 8   dyn_range_mean          float64\n",
      " 9   energy                  float64\n",
      " 10  flatness                float64\n",
      " 11  instrumentalness        float64\n",
      " 12  key                     int64  \n",
      " 13  liveness                float64\n",
      " 14  loudness                float64\n",
      " 15  mechanism               float64\n",
      " 16  mode                    object \n",
      " 17  organism                float64\n",
      " 18  speechiness             float64\n",
      " 19  tempo                   float64\n",
      " 20  time_signature          int64  \n",
      " 21  valence                 float64\n",
      " 22  acoustic_vector_0       float64\n",
      " 23  acoustic_vector_1       float64\n",
      " 24  acoustic_vector_2       float64\n",
      " 25  acoustic_vector_3       float64\n",
      " 26  acoustic_vector_4       float64\n",
      " 27  acoustic_vector_5       float64\n",
      " 28  acoustic_vector_6       float64\n",
      " 29  acoustic_vector_7       float64\n",
      "dtypes: float64(25), int64(3), object(2)\n",
      "memory usage: 848.3+ MB\n"
     ]
    }
   ],
   "source": [
    "# check the data\n",
    "tf_df.info()\n"
   ]
  },
  {
   "cell_type": "markdown",
   "id": "64528e23",
   "metadata": {},
   "source": [
    "## K-means clustering"
   ]
  },
  {
   "cell_type": "code",
   "execution_count": 4,
   "id": "2e9b613f",
   "metadata": {},
   "outputs": [],
   "source": [
    "from sklearn.preprocessing import StandardScaler\n",
    "\n",
    "# only pick these columns to do the clustering\n",
    "sel_col_names = ['acousticness','beat_strength','danceability',\n",
    "                        'dyn_range_mean', 'energy', 'flatness','instrumentalness', 'liveness', \n",
    "                        'loudness', 'mechanism', 'organism','speechiness','valence',\n",
    "                        'acoustic_vector_0','acoustic_vector_1', 'acoustic_vector_2', 'acoustic_vector_3',\n",
    "                        'acoustic_vector_4', 'acoustic_vector_5', 'acoustic_vector_6','acoustic_vector_7']\n",
    "x_cols = tf_df[sel_col_names]\n",
    "\n",
    "# rescale the data\n",
    "scaler = StandardScaler()\n",
    "x_cols_scaled = scaler.fit_transform(x_cols)"
   ]
  },
  {
   "cell_type": "code",
   "execution_count": 5,
   "id": "df23e486",
   "metadata": {
    "collapsed": true
   },
   "outputs": [
    {
     "name": "stdout",
     "output_type": "stream",
     "text": [
      "50\n",
      "100\n",
      "150\n",
      "200\n",
      "250\n",
      "300\n",
      "350\n",
      "400\n",
      "450\n",
      "500\n",
      "550\n",
      "600\n",
      "650\n",
      "700\n",
      "750\n",
      "800\n",
      "850\n",
      "900\n",
      "950\n"
     ]
    }
   ],
   "source": [
    "# find out what's the best k\n",
    "# use mini batch as it is faster\n",
    "\n",
    "inertia = []\n",
    "nClusters = []\n",
    "\n",
    "for k in range(50,1000,50):\n",
    "    print(k)\n",
    "    model = MiniBatchKMeans(n_clusters = k, random_state=23, batch_size = 50000)\n",
    "    model.fit(x_cols_scaled)\n",
    "    inertia.append(model.inertia_)\n",
    "    nClusters.append(k)\n",
    "    "
   ]
  },
  {
   "cell_type": "code",
   "execution_count": 8,
   "id": "81ff0723",
   "metadata": {},
   "outputs": [
    {
     "data": {
      "image/png": "[encoded data removed]",
      "text/plain": [
       "<Figure size 640x480 with 1 Axes>"
      ]
     },
     "metadata": {},
     "output_type": "display_data"
    }
   ],
   "source": [
    "plt.plot(nClusters,inertia)\n",
    "plt.xlabel('K')\n",
    "plt.ylabel('SS')\n",
    "plt.title('inertia of mini batch k means')\n",
    "plt.savefig('../reports/internal/mbKMean_inertia_allTracks.png')\n",
    "plt.show()\n"
   ]
  },
  {
   "cell_type": "markdown",
   "id": "46b6d875",
   "metadata": {},
   "source": [
    "# k = 300"
   ]
  },
  {
   "cell_type": "code",
   "execution_count": 12,
   "id": "83663341",
   "metadata": {},
   "outputs": [
    {
     "data": {
      "image/png": "[encoded data removed]",
      "text/plain": [
       "<Figure size 640x480 with 1 Axes>"
      ]
     },
     "metadata": {},
     "output_type": "display_data"
    }
   ],
   "source": [
    "# k = 300\n",
    "km_model = MiniBatchKMeans(n_clusters = 300, random_state=23, batch_size = 50000)\n",
    "clus = pd.DataFrame(km_model.fit_predict(x_cols_scaled))\n",
    "clus_count = pd.DataFrame(clus.value_counts(), columns = ['count']).reset_index().sort_values('count')\n",
    "ax = sns.histplot(clus_count['count'])\n",
    "ax.set(xlabel='size of each cluster', ylabel='number of clusters')\n",
    "plt.tight_layout()\n",
    "plt.savefig('../reports/interim/KMean300_distribution.png')\n",
    "plt.show()"
   ]
  },
  {
   "cell_type": "code",
   "execution_count": 15,
   "id": "dfc51a06",
   "metadata": {},
   "outputs": [
    {
     "data": {
      "text/plain": [
       "count      300.000000\n",
       "mean     12354.626667\n",
       "std       4717.979880\n",
       "min       1071.000000\n",
       "25%       8737.500000\n",
       "50%      11901.000000\n",
       "75%      15562.250000\n",
       "max      24741.000000\n",
       "Name: count, dtype: float64"
      ]
     },
     "execution_count": 15,
     "metadata": {},
     "output_type": "execute_result"
    }
   ],
   "source": [
    "clus_count['count'].describe()"
   ]
  },
  {
   "cell_type": "code",
   "execution_count": 25,
   "id": "312659ea",
   "metadata": {},
   "outputs": [
    {
     "data": {
      "text/html": [
       "<div>\n",
       "<style scoped>\n",
       "    .dataframe tbody tr th:only-of-type {\n",
       "        vertical-align: middle;\n",
       "    }\n",
       "\n",
       "    .dataframe tbody tr th {\n",
       "        vertical-align: top;\n",
       "    }\n",
       "\n",
       "    .dataframe thead th {\n",
       "        text-align: right;\n",
       "    }\n",
       "</style>\n",
       "<table border=\"1\" class=\"dataframe\">\n",
       "  <thead>\n",
       "    <tr style=\"text-align: right;\">\n",
       "      <th></th>\n",
       "      <th>track_id</th>\n",
       "      <th>clus</th>\n",
       "    </tr>\n",
       "  </thead>\n",
       "  <tbody>\n",
       "    <tr>\n",
       "      <th>0</th>\n",
       "      <td>t_2e8f4b71-8a0b-4b9c-b7d8-fb5208e87f9f</td>\n",
       "      <td>94</td>\n",
       "    </tr>\n",
       "    <tr>\n",
       "      <th>1</th>\n",
       "      <td>t_dae2ec0e-ec7b-4b3e-b60c-4a884d0eccb0</td>\n",
       "      <td>47</td>\n",
       "    </tr>\n",
       "    <tr>\n",
       "      <th>2</th>\n",
       "      <td>t_cf0164dd-1531-4399-bfa6-dec19cd1fedc</td>\n",
       "      <td>169</td>\n",
       "    </tr>\n",
       "    <tr>\n",
       "      <th>3</th>\n",
       "      <td>t_0f90acc7-d5c5-4e53-901d-55610fbd090c</td>\n",
       "      <td>83</td>\n",
       "    </tr>\n",
       "    <tr>\n",
       "      <th>4</th>\n",
       "      <td>t_36b9ad02-095a-443d-a697-6c7285d9410a</td>\n",
       "      <td>187</td>\n",
       "    </tr>\n",
       "  </tbody>\n",
       "</table>\n",
       "</div>"
      ],
      "text/plain": [
       "                                 track_id  clus\n",
       "0  t_2e8f4b71-8a0b-4b9c-b7d8-fb5208e87f9f    94\n",
       "1  t_dae2ec0e-ec7b-4b3e-b60c-4a884d0eccb0    47\n",
       "2  t_cf0164dd-1531-4399-bfa6-dec19cd1fedc   169\n",
       "3  t_0f90acc7-d5c5-4e53-901d-55610fbd090c    83\n",
       "4  t_36b9ad02-095a-443d-a697-6c7285d9410a   187"
      ]
     },
     "execution_count": 25,
     "metadata": {},
     "output_type": "execute_result"
    }
   ],
   "source": [
    "tf_cluster = pd.DataFrame({'track_id': tf_df['track_id'], 'clus': clus[0]})\n",
    "tf_cluster.head()"
   ]
  },
  {
   "cell_type": "code",
   "execution_count": 28,
   "id": "9fe7829c",
   "metadata": {},
   "outputs": [],
   "source": [
    "tf_cluster.to_csv('../data/interim/all_data/mbKMeans300clusters.csv')"
   ]
  },
  {
   "cell_type": "markdown",
   "id": "b6500f3a",
   "metadata": {},
   "source": [
    "# k = 100"
   ]
  },
  {
   "cell_type": "code",
   "execution_count": 29,
   "id": "03c915f1",
   "metadata": {},
   "outputs": [
    {
     "data": {
      "image/png": "[encoded data removed]",
      "text/plain": [
       "<Figure size 640x480 with 1 Axes>"
      ]
     },
     "metadata": {},
     "output_type": "display_data"
    }
   ],
   "source": [
    "# k = 100\n",
    "km_model = MiniBatchKMeans(n_clusters = 100, random_state=23, batch_size = 50000)\n",
    "clus = pd.DataFrame(km_model.fit_predict(x_cols_scaled))\n",
    "clus_count = pd.DataFrame(clus.value_counts(), columns = ['count']).reset_index().sort_values('count')\n",
    "ax = sns.histplot(clus_count['count'])\n",
    "ax.set(xlabel='size of each cluster', ylabel='number of clusters')\n",
    "plt.tight_layout()\n",
    "plt.savefig('../reports/interim/KMean100_distribution.png')\n",
    "plt.show()"
   ]
  },
  {
   "cell_type": "code",
   "execution_count": 30,
   "id": "ee2a01d1",
   "metadata": {},
   "outputs": [
    {
     "data": {
      "text/plain": [
       "count      100.000000\n",
       "mean     37063.880000\n",
       "std      13134.374122\n",
       "min       6701.000000\n",
       "25%      27601.250000\n",
       "50%      37210.000000\n",
       "75%      45132.250000\n",
       "max      70421.000000\n",
       "Name: count, dtype: float64"
      ]
     },
     "execution_count": 30,
     "metadata": {},
     "output_type": "execute_result"
    }
   ],
   "source": [
    "clus_count['count'].describe()"
   ]
  },
  {
   "cell_type": "code",
   "execution_count": 31,
   "id": "a3e86314",
   "metadata": {},
   "outputs": [
    {
     "data": {
      "text/html": [
       "<div>\n",
       "<style scoped>\n",
       "    .dataframe tbody tr th:only-of-type {\n",
       "        vertical-align: middle;\n",
       "    }\n",
       "\n",
       "    .dataframe tbody tr th {\n",
       "        vertical-align: top;\n",
       "    }\n",
       "\n",
       "    .dataframe thead th {\n",
       "        text-align: right;\n",
       "    }\n",
       "</style>\n",
       "<table border=\"1\" class=\"dataframe\">\n",
       "  <thead>\n",
       "    <tr style=\"text-align: right;\">\n",
       "      <th></th>\n",
       "      <th>track_id</th>\n",
       "      <th>clus</th>\n",
       "    </tr>\n",
       "  </thead>\n",
       "  <tbody>\n",
       "    <tr>\n",
       "      <th>0</th>\n",
       "      <td>t_2e8f4b71-8a0b-4b9c-b7d8-fb5208e87f9f</td>\n",
       "      <td>94</td>\n",
       "    </tr>\n",
       "    <tr>\n",
       "      <th>1</th>\n",
       "      <td>t_dae2ec0e-ec7b-4b3e-b60c-4a884d0eccb0</td>\n",
       "      <td>36</td>\n",
       "    </tr>\n",
       "    <tr>\n",
       "      <th>2</th>\n",
       "      <td>t_cf0164dd-1531-4399-bfa6-dec19cd1fedc</td>\n",
       "      <td>28</td>\n",
       "    </tr>\n",
       "    <tr>\n",
       "      <th>3</th>\n",
       "      <td>t_0f90acc7-d5c5-4e53-901d-55610fbd090c</td>\n",
       "      <td>4</td>\n",
       "    </tr>\n",
       "    <tr>\n",
       "      <th>4</th>\n",
       "      <td>t_36b9ad02-095a-443d-a697-6c7285d9410a</td>\n",
       "      <td>29</td>\n",
       "    </tr>\n",
       "  </tbody>\n",
       "</table>\n",
       "</div>"
      ],
      "text/plain": [
       "                                 track_id  clus\n",
       "0  t_2e8f4b71-8a0b-4b9c-b7d8-fb5208e87f9f    94\n",
       "1  t_dae2ec0e-ec7b-4b3e-b60c-4a884d0eccb0    36\n",
       "2  t_cf0164dd-1531-4399-bfa6-dec19cd1fedc    28\n",
       "3  t_0f90acc7-d5c5-4e53-901d-55610fbd090c     4\n",
       "4  t_36b9ad02-095a-443d-a697-6c7285d9410a    29"
      ]
     },
     "execution_count": 31,
     "metadata": {},
     "output_type": "execute_result"
    }
   ],
   "source": [
    "tf_cluster = pd.DataFrame({'track_id': tf_df['track_id'], 'clus': clus[0]})\n",
    "tf_cluster.head()"
   ]
  },
  {
   "cell_type": "code",
   "execution_count": 32,
   "id": "2bdb7c13",
   "metadata": {},
   "outputs": [],
   "source": [
    "tf_cluster.to_csv('../data/interim/all_data/mbKMeans100clusters.csv')"
   ]
  },
  {
   "cell_type": "code",
   "execution_count": null,
   "id": "92e72ecc",
   "metadata": {},
   "outputs": [],
   "source": []
  },
  {
   "cell_type": "code",
   "execution_count": null,
   "id": "517d71ae",
   "metadata": {},
   "outputs": [],
   "source": []
  }
 ],
 "metadata": {
  "kernelspec": {
   "display_name": "Python 3 (ipykernel)",
   "language": "python",
   "name": "python3"
  },
  "language_info": {
   "codemirror_mode": {
    "name": "ipython",
    "version": 3
   },
   "file_extension": ".py",
   "mimetype": "text/x-python",
   "name": "python",
   "nbconvert_exporter": "python",
   "pygments_lexer": "ipython3",
   "version": "3.8.13"
  }
 },
 "nbformat": 4,
 "nbformat_minor": 5
}
