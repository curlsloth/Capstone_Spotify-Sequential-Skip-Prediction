{
 "cells": [
  {
   "cell_type": "markdown",
   "id": "26348f96",
   "metadata": {},
   "source": [
    "## Predict the skipping behavior of the validation dataset"
   ]
  },
  {
   "cell_type": "code",
   "execution_count": 1,
   "id": "f0e66449",
   "metadata": {},
   "outputs": [],
   "source": [
    "import pandas as pd\n",
    "import numpy as np\n",
    "import tarfile\n",
    "import io\n",
    "import glob\n",
    "import dask.dataframe as dd\n",
    "\n",
    "\n",
    "import lightgbm as lgb\n",
    "import warnings\n",
    "warnings.simplefilter(\"ignore\")\n",
    "\n",
    "import myFunc as mf\n",
    "\n",
    "\n",
    "\n",
    "tar = tarfile.open('../data/raw/20181120_track_features.tar.gz', 'r:gz')\n",
    "csv_files = tar.getnames()\n",
    "\n",
    "tf_df_list = []\n",
    "\n",
    "for csv_file in [csv_files[2], csv_files[4]]:\n",
    "    csv_contents = tar.extractfile(csv_file).read()\n",
    "    tf_df_list.append(pd.read_csv(io.BytesIO(csv_contents), encoding='utf8'))\n",
    "\n",
    "tf_df = pd.concat(tf_df_list, ignore_index=True)\n",
    "tf_df.rename(columns={'track_id':'track_id_clean'}, inplace=True)\n",
    "\n",
    "kmean300_df = pd.read_csv('../data/interim/all_data/mbKMeans300clusters.csv', usecols=['track_id','clus'])\n",
    "kmean300_df.rename(columns={'track_id':'track_id_clean'}, inplace=True)\n",
    "\n"
   ]
  },
  {
   "cell_type": "code",
   "execution_count": 2,
   "id": "d573dece",
   "metadata": {},
   "outputs": [],
   "source": [
    "# validation data\n",
    "file_list = ['../data/raw/training_set/log_0_20180918_000000000000.csv']"
   ]
  },
  {
   "cell_type": "code",
   "execution_count": 3,
   "id": "cf7358b5",
   "metadata": {},
   "outputs": [],
   "source": [
    "# the same data processing steps but without weights and track selection\n",
    "\n",
    "def prep_dfs_eval(file, tf_df, simFolder, kmean_df):\n",
    "    log_df = pd.read_csv(file)\n",
    "    log_df = log_df.merge(kmean_df)\n",
    "\n",
    "    log_df_1 = log_df.loc[log_df['session_position']<=(log_df['session_length']/2)]\n",
    "    log_df_1['hour_of_day'] = log_df_1['hour_of_day'].astype('float')\n",
    "    log_df_1['premium'] = log_df_1['premium'].astype('bool')\n",
    "    log_df_1 = log_df_1.drop(columns = ['date'])\n",
    "    log_df_1 = pd.get_dummies(log_df_1, columns=['hist_user_behavior_reason_end', 'hist_user_behavior_reason_start', 'context_type'], dtype = 'bool')\n",
    "    log_df_1 = log_df_1.merge(tf_df.drop(columns = ['time_signature','mode','key']))\n",
    "    \n",
    "                     \n",
    "    col_bool = log_df_1.columns[log_df_1.dtypes=='bool']\n",
    "    col_nonbool = log_df_1.columns[log_df_1.dtypes!='bool'].drop(['session_id','track_id_clean','clus'])\n",
    "    \n",
    "    # the non-convertable values will be set to 0\n",
    "    log_df_1[col_nonbool] = log_df_1[col_nonbool].apply(pd.to_numeric, errors='coerce', downcast = 'float').fillna(0).astype('float32')\n",
    "\n",
    "    # aggregate the track history where ['skip_2']==True\n",
    "    log_df_1_summary_skip2True = pd.concat([log_df_1.loc[log_df_1['skip_2']==True].groupby(['session_id'])[col_bool].agg(['mean']), \n",
    "                                            log_df_1.loc[log_df_1['skip_2']==True].groupby(['session_id'])[col_nonbool].agg(['mean', 'std', 'median'])],\n",
    "                                            axis = 1)\n",
    "    log_df_1_summary_skip2True.columns = log_df_1_summary_skip2True.columns.get_level_values(0)+'_sk2True_'+log_df_1_summary_skip2True.columns.get_level_values(1)\n",
    "    \n",
    "    # aggregate the track history where ['skip_2']==False\n",
    "    log_df_1_summary_skip2False = pd.concat([log_df_1.loc[log_df_1['skip_2']==False].groupby(['session_id'])[col_bool].agg(['mean']), \n",
    "                                             log_df_1.loc[log_df_1['skip_2']==False].groupby(['session_id'])[col_nonbool].agg(['mean', 'std', 'median'])],\n",
    "                                             axis = 1)\n",
    "    log_df_1_summary_skip2False.columns = log_df_1_summary_skip2False.columns.get_level_values(0)+'_sk2False_'+log_df_1_summary_skip2False.columns.get_level_values(1)\n",
    "    \n",
    "    \n",
    "    log_df_history = log_df_1[['session_id','track_id_clean','skip_2','clus']]\n",
    "\n",
    "\n",
    "    half_cut = log_df['session_length']/2\n",
    "\n",
    "\n",
    "    log_df_2 = log_df.loc[(log_df['session_position']>half_cut)]\n",
    "    log_df_2 = log_df_2[['session_id','track_id_clean','skip_2','session_position','session_length','clus']]\n",
    "    log_df_2 = log_df_2.merge(log_df_1_summary_skip2True, on='session_id')\n",
    "    log_df_2 = log_df_2.merge(log_df_1_summary_skip2False, on='session_id')\n",
    "    \n",
    "\n",
    "    sim_file_list = ['../models/SVD/all_tracks/'+simFolder+'/k300_CanbDist.csv',\n",
    "                     '../models/SVD/all_tracks/'+simFolder+'/k300_CosSim.csv',\n",
    "                     '../models/SVD/all_tracks/'+simFolder+'/k300_LinCorr.csv',\n",
    "                     '../models/SVD/all_tracks/'+simFolder+'/k300_ManhDist.csv',\n",
    "                     '../models/SVD/all_tracks/'+simFolder+'/k300_HammDist.csv',\n",
    "                     '../models/SVD/all_tracks/'+simFolder+'/k300_SpearCorr.csv',\n",
    "                     '../models/SVD/all_tracks/'+simFolder+'/k300_KendCorr.csv',\n",
    "                     '../models/SVD/all_tracks/'+simFolder+'/k300_ChebDist.csv',\n",
    "                     '../models/SVD/all_tracks/'+simFolder+'/k300_BrayDist.csv']\n",
    "    score_name_list = ['CanbDist300', 'CosSim300','LinCorr300','ManhDist300','HammDist300','SpearCorr300','KendCorr300','ChebDist','BrayDist']\n",
    "\n",
    "    return mf.get_sim(log_df_history, log_df_2, sim_file_list, score_name_list)"
   ]
  },
  {
   "cell_type": "code",
   "execution_count": 5,
   "id": "a4a3b038",
   "metadata": {},
   "outputs": [
    {
     "name": "stdout",
     "output_type": "stream",
     "text": [
      "Runtime per batch: 91.92s\n"
     ]
    }
   ],
   "source": [
    "# predict the skipping behavior based on the fitted model\n",
    "\n",
    "from timeit import default_timer as timer #to see how long the computation will take\n",
    "\n",
    "df_lookup_list = []\n",
    "for file in file_list[0:1]:\n",
    "    start = timer()\n",
    "    df_lookup_list.append(prep_dfs_eval(file, tf_df, 'similarity_20180917-20180917', kmean300_df))\n",
    "    \n",
    "df_lookup = pd.concat(df_lookup_list)\n",
    "df_lookup = df_lookup.merge(tf_df.drop(columns = ['key','time_signature','mode']))\n",
    "\n",
    "# check whether the column names match with the previous training set\n",
    "prev_feature_names = lgb.Booster(model_file='../models/SVD/LightGBM_BayesOpt_dec17/for20180918/boost_alltracks_incrementalTrain_10_dec23.txt').feature_name()\n",
    "if bool(set(prev_feature_names) - set(df_lookup.columns)): # if there are missing columns\n",
    "            df_lookup[list(set(prev_feature_names) - set(df_lookup.columns))] = 0 # add the missed columns with 0\n",
    "\n",
    "if bool(set(df_lookup.columns)- set(prev_feature_names)): # if there are extra columns\n",
    "    extra_cols = list(set(df_lookup.columns)- set(prev_feature_names) - set(['session_id','track_id_clean','skip_2','weight']))\n",
    "    df_lookup.drop(columns = extra_cols, inplace = True)\n",
    "\n",
    "df_lookup.sort_values(['session_id','session_position'], inplace = True)\n",
    "df_test = df_lookup.drop(columns = ['session_id','track_id_clean','skip_2']).astype('float32')\n",
    "X = df_lookup.drop(columns = ['session_id','track_id_clean','skip_2']).to_numpy()\n",
    "\n",
    "bst = lgb.Booster(model_file='../models/SVD/LightGBM_BayesOpt_dec17/for20180918/boost_alltracks_incrementalTrain_10_dec23.txt')  # init model\n",
    "\n",
    "ypred = bst.predict(df_test)\n",
    "print('Runtime per batch: %0.2fs' % (timer() - start))"
   ]
  },
  {
   "cell_type": "code",
   "execution_count": 6,
   "id": "07f8341b",
   "metadata": {
    "scrolled": true
   },
   "outputs": [
    {
     "data": {
      "text/html": [
       "<div>\n",
       "<style scoped>\n",
       "    .dataframe tbody tr th:only-of-type {\n",
       "        vertical-align: middle;\n",
       "    }\n",
       "\n",
       "    .dataframe tbody tr th {\n",
       "        vertical-align: top;\n",
       "    }\n",
       "\n",
       "    .dataframe thead th {\n",
       "        text-align: right;\n",
       "    }\n",
       "</style>\n",
       "<table border=\"1\" class=\"dataframe\">\n",
       "  <thead>\n",
       "    <tr style=\"text-align: right;\">\n",
       "      <th></th>\n",
       "      <th>session_id</th>\n",
       "      <th>track_id_clean</th>\n",
       "      <th>skip_2</th>\n",
       "      <th>session_position</th>\n",
       "      <th>session_length</th>\n",
       "      <th>clus</th>\n",
       "      <th>skip_1_sk2True_mean</th>\n",
       "      <th>skip_2_sk2True_mean</th>\n",
       "      <th>skip_3_sk2True_mean</th>\n",
       "      <th>not_skipped_sk2True_mean</th>\n",
       "      <th>...</th>\n",
       "      <th>tempo</th>\n",
       "      <th>valence</th>\n",
       "      <th>acoustic_vector_0</th>\n",
       "      <th>acoustic_vector_1</th>\n",
       "      <th>acoustic_vector_2</th>\n",
       "      <th>acoustic_vector_3</th>\n",
       "      <th>acoustic_vector_4</th>\n",
       "      <th>acoustic_vector_5</th>\n",
       "      <th>acoustic_vector_6</th>\n",
       "      <th>acoustic_vector_7</th>\n",
       "    </tr>\n",
       "  </thead>\n",
       "  <tbody>\n",
       "    <tr>\n",
       "      <th>463004</th>\n",
       "      <td>65_0000b60c-d39c-4554-8371-354729ed60c0</td>\n",
       "      <td>t_51956520-ce7a-4604-9bcb-56bfff7b2736</td>\n",
       "      <td>False</td>\n",
       "      <td>11</td>\n",
       "      <td>20</td>\n",
       "      <td>282</td>\n",
       "      <td>0.714286</td>\n",
       "      <td>1.0</td>\n",
       "      <td>1.0</td>\n",
       "      <td>0.0</td>\n",
       "      <td>...</td>\n",
       "      <td>142.056000</td>\n",
       "      <td>0.556551</td>\n",
       "      <td>-0.448360</td>\n",
       "      <td>0.266142</td>\n",
       "      <td>0.200711</td>\n",
       "      <td>-0.102771</td>\n",
       "      <td>-0.552026</td>\n",
       "      <td>0.167256</td>\n",
       "      <td>-0.056987</td>\n",
       "      <td>0.605874</td>\n",
       "    </tr>\n",
       "    <tr>\n",
       "      <th>463045</th>\n",
       "      <td>65_0000b60c-d39c-4554-8371-354729ed60c0</td>\n",
       "      <td>t_25d11783-1ca4-427a-95e6-4f557b2b83c9</td>\n",
       "      <td>True</td>\n",
       "      <td>12</td>\n",
       "      <td>20</td>\n",
       "      <td>251</td>\n",
       "      <td>0.714286</td>\n",
       "      <td>1.0</td>\n",
       "      <td>1.0</td>\n",
       "      <td>0.0</td>\n",
       "      <td>...</td>\n",
       "      <td>142.029007</td>\n",
       "      <td>0.254356</td>\n",
       "      <td>-0.309036</td>\n",
       "      <td>0.217209</td>\n",
       "      <td>0.225878</td>\n",
       "      <td>-0.143391</td>\n",
       "      <td>-0.540390</td>\n",
       "      <td>0.220587</td>\n",
       "      <td>0.037699</td>\n",
       "      <td>0.617515</td>\n",
       "    </tr>\n",
       "    <tr>\n",
       "      <th>464069</th>\n",
       "      <td>65_0000b60c-d39c-4554-8371-354729ed60c0</td>\n",
       "      <td>t_ba244873-8564-4ea6-b8bc-d0793b0d0dff</td>\n",
       "      <td>True</td>\n",
       "      <td>13</td>\n",
       "      <td>20</td>\n",
       "      <td>66</td>\n",
       "      <td>0.714286</td>\n",
       "      <td>1.0</td>\n",
       "      <td>1.0</td>\n",
       "      <td>0.0</td>\n",
       "      <td>...</td>\n",
       "      <td>142.014999</td>\n",
       "      <td>0.173213</td>\n",
       "      <td>-0.350981</td>\n",
       "      <td>0.286125</td>\n",
       "      <td>0.236305</td>\n",
       "      <td>-0.114115</td>\n",
       "      <td>-0.523562</td>\n",
       "      <td>0.217533</td>\n",
       "      <td>0.099462</td>\n",
       "      <td>0.628256</td>\n",
       "    </tr>\n",
       "    <tr>\n",
       "      <th>464215</th>\n",
       "      <td>65_0000b60c-d39c-4554-8371-354729ed60c0</td>\n",
       "      <td>t_df63af76-311f-4d85-877f-69b356cb5054</td>\n",
       "      <td>True</td>\n",
       "      <td>14</td>\n",
       "      <td>20</td>\n",
       "      <td>172</td>\n",
       "      <td>0.714286</td>\n",
       "      <td>1.0</td>\n",
       "      <td>1.0</td>\n",
       "      <td>0.0</td>\n",
       "      <td>...</td>\n",
       "      <td>142.065002</td>\n",
       "      <td>0.192292</td>\n",
       "      <td>-0.346976</td>\n",
       "      <td>0.306263</td>\n",
       "      <td>0.263410</td>\n",
       "      <td>-0.157135</td>\n",
       "      <td>-0.554300</td>\n",
       "      <td>0.240247</td>\n",
       "      <td>0.083986</td>\n",
       "      <td>0.636656</td>\n",
       "    </tr>\n",
       "    <tr>\n",
       "      <th>464234</th>\n",
       "      <td>65_0000b60c-d39c-4554-8371-354729ed60c0</td>\n",
       "      <td>t_8849e9af-6413-4661-9628-f3f503a64f62</td>\n",
       "      <td>True</td>\n",
       "      <td>15</td>\n",
       "      <td>20</td>\n",
       "      <td>109</td>\n",
       "      <td>0.714286</td>\n",
       "      <td>1.0</td>\n",
       "      <td>1.0</td>\n",
       "      <td>0.0</td>\n",
       "      <td>...</td>\n",
       "      <td>140.037994</td>\n",
       "      <td>0.099212</td>\n",
       "      <td>-0.313165</td>\n",
       "      <td>0.229884</td>\n",
       "      <td>0.208512</td>\n",
       "      <td>-0.152276</td>\n",
       "      <td>-0.645428</td>\n",
       "      <td>0.243758</td>\n",
       "      <td>0.069302</td>\n",
       "      <td>0.795294</td>\n",
       "    </tr>\n",
       "    <tr>\n",
       "      <th>...</th>\n",
       "      <td>...</td>\n",
       "      <td>...</td>\n",
       "      <td>...</td>\n",
       "      <td>...</td>\n",
       "      <td>...</td>\n",
       "      <td>...</td>\n",
       "      <td>...</td>\n",
       "      <td>...</td>\n",
       "      <td>...</td>\n",
       "      <td>...</td>\n",
       "      <td>...</td>\n",
       "      <td>...</td>\n",
       "      <td>...</td>\n",
       "      <td>...</td>\n",
       "      <td>...</td>\n",
       "      <td>...</td>\n",
       "      <td>...</td>\n",
       "      <td>...</td>\n",
       "      <td>...</td>\n",
       "      <td>...</td>\n",
       "      <td>...</td>\n",
       "    </tr>\n",
       "    <tr>\n",
       "      <th>1084986</th>\n",
       "      <td>65_ffffbf79-3810-48ca-a97e-788a5e87851d</td>\n",
       "      <td>t_6a18d618-a863-4710-a0f7-edc959e65ad5</td>\n",
       "      <td>False</td>\n",
       "      <td>16</td>\n",
       "      <td>20</td>\n",
       "      <td>69</td>\n",
       "      <td>0.625000</td>\n",
       "      <td>1.0</td>\n",
       "      <td>1.0</td>\n",
       "      <td>0.0</td>\n",
       "      <td>...</td>\n",
       "      <td>165.897003</td>\n",
       "      <td>0.268866</td>\n",
       "      <td>0.063448</td>\n",
       "      <td>0.452877</td>\n",
       "      <td>-0.178410</td>\n",
       "      <td>-0.603517</td>\n",
       "      <td>0.177323</td>\n",
       "      <td>0.126411</td>\n",
       "      <td>-0.378101</td>\n",
       "      <td>0.060804</td>\n",
       "    </tr>\n",
       "    <tr>\n",
       "      <th>1137804</th>\n",
       "      <td>65_ffffbf79-3810-48ca-a97e-788a5e87851d</td>\n",
       "      <td>t_26e4c895-8d92-4cf7-b6c9-d41861c43f27</td>\n",
       "      <td>False</td>\n",
       "      <td>17</td>\n",
       "      <td>20</td>\n",
       "      <td>287</td>\n",
       "      <td>0.625000</td>\n",
       "      <td>1.0</td>\n",
       "      <td>1.0</td>\n",
       "      <td>0.0</td>\n",
       "      <td>...</td>\n",
       "      <td>179.990005</td>\n",
       "      <td>0.347908</td>\n",
       "      <td>0.169253</td>\n",
       "      <td>0.614182</td>\n",
       "      <td>-0.390072</td>\n",
       "      <td>-0.725376</td>\n",
       "      <td>0.397905</td>\n",
       "      <td>0.171512</td>\n",
       "      <td>-0.376916</td>\n",
       "      <td>0.395052</td>\n",
       "    </tr>\n",
       "    <tr>\n",
       "      <th>889714</th>\n",
       "      <td>65_ffffbf79-3810-48ca-a97e-788a5e87851d</td>\n",
       "      <td>t_38157f38-9cc5-4248-ac96-60b571e8b37b</td>\n",
       "      <td>False</td>\n",
       "      <td>18</td>\n",
       "      <td>20</td>\n",
       "      <td>188</td>\n",
       "      <td>0.625000</td>\n",
       "      <td>1.0</td>\n",
       "      <td>1.0</td>\n",
       "      <td>0.0</td>\n",
       "      <td>...</td>\n",
       "      <td>134.014008</td>\n",
       "      <td>0.718833</td>\n",
       "      <td>0.077334</td>\n",
       "      <td>0.471669</td>\n",
       "      <td>-0.277773</td>\n",
       "      <td>-0.722327</td>\n",
       "      <td>0.294819</td>\n",
       "      <td>0.186959</td>\n",
       "      <td>-0.470139</td>\n",
       "      <td>0.162687</td>\n",
       "    </tr>\n",
       "    <tr>\n",
       "      <th>1081226</th>\n",
       "      <td>65_ffffbf79-3810-48ca-a97e-788a5e87851d</td>\n",
       "      <td>t_07074f30-ad55-42f5-a608-e72fd80013b0</td>\n",
       "      <td>False</td>\n",
       "      <td>19</td>\n",
       "      <td>20</td>\n",
       "      <td>129</td>\n",
       "      <td>0.625000</td>\n",
       "      <td>1.0</td>\n",
       "      <td>1.0</td>\n",
       "      <td>0.0</td>\n",
       "      <td>...</td>\n",
       "      <td>135.860992</td>\n",
       "      <td>0.389706</td>\n",
       "      <td>0.183129</td>\n",
       "      <td>0.135919</td>\n",
       "      <td>-0.423383</td>\n",
       "      <td>-0.510713</td>\n",
       "      <td>0.689540</td>\n",
       "      <td>0.149603</td>\n",
       "      <td>-0.344343</td>\n",
       "      <td>0.013874</td>\n",
       "    </tr>\n",
       "    <tr>\n",
       "      <th>889711</th>\n",
       "      <td>65_ffffbf79-3810-48ca-a97e-788a5e87851d</td>\n",
       "      <td>t_d8874d14-99ec-4afb-83f0-634730f27ae8</td>\n",
       "      <td>False</td>\n",
       "      <td>20</td>\n",
       "      <td>20</td>\n",
       "      <td>76</td>\n",
       "      <td>0.625000</td>\n",
       "      <td>1.0</td>\n",
       "      <td>1.0</td>\n",
       "      <td>0.0</td>\n",
       "      <td>...</td>\n",
       "      <td>121.025002</td>\n",
       "      <td>0.559319</td>\n",
       "      <td>0.181210</td>\n",
       "      <td>0.252623</td>\n",
       "      <td>-0.153378</td>\n",
       "      <td>-0.705467</td>\n",
       "      <td>0.152824</td>\n",
       "      <td>0.258996</td>\n",
       "      <td>-0.435694</td>\n",
       "      <td>-0.097788</td>\n",
       "    </tr>\n",
       "  </tbody>\n",
       "</table>\n",
       "<p>1363022 rows × 313 columns</p>\n",
       "</div>"
      ],
      "text/plain": [
       "                                      session_id  \\\n",
       "463004   65_0000b60c-d39c-4554-8371-354729ed60c0   \n",
       "463045   65_0000b60c-d39c-4554-8371-354729ed60c0   \n",
       "464069   65_0000b60c-d39c-4554-8371-354729ed60c0   \n",
       "464215   65_0000b60c-d39c-4554-8371-354729ed60c0   \n",
       "464234   65_0000b60c-d39c-4554-8371-354729ed60c0   \n",
       "...                                          ...   \n",
       "1084986  65_ffffbf79-3810-48ca-a97e-788a5e87851d   \n",
       "1137804  65_ffffbf79-3810-48ca-a97e-788a5e87851d   \n",
       "889714   65_ffffbf79-3810-48ca-a97e-788a5e87851d   \n",
       "1081226  65_ffffbf79-3810-48ca-a97e-788a5e87851d   \n",
       "889711   65_ffffbf79-3810-48ca-a97e-788a5e87851d   \n",
       "\n",
       "                                 track_id_clean  skip_2  session_position  \\\n",
       "463004   t_51956520-ce7a-4604-9bcb-56bfff7b2736   False                11   \n",
       "463045   t_25d11783-1ca4-427a-95e6-4f557b2b83c9    True                12   \n",
       "464069   t_ba244873-8564-4ea6-b8bc-d0793b0d0dff    True                13   \n",
       "464215   t_df63af76-311f-4d85-877f-69b356cb5054    True                14   \n",
       "464234   t_8849e9af-6413-4661-9628-f3f503a64f62    True                15   \n",
       "...                                         ...     ...               ...   \n",
       "1084986  t_6a18d618-a863-4710-a0f7-edc959e65ad5   False                16   \n",
       "1137804  t_26e4c895-8d92-4cf7-b6c9-d41861c43f27   False                17   \n",
       "889714   t_38157f38-9cc5-4248-ac96-60b571e8b37b   False                18   \n",
       "1081226  t_07074f30-ad55-42f5-a608-e72fd80013b0   False                19   \n",
       "889711   t_d8874d14-99ec-4afb-83f0-634730f27ae8   False                20   \n",
       "\n",
       "         session_length  clus  skip_1_sk2True_mean  skip_2_sk2True_mean  \\\n",
       "463004               20   282             0.714286                  1.0   \n",
       "463045               20   251             0.714286                  1.0   \n",
       "464069               20    66             0.714286                  1.0   \n",
       "464215               20   172             0.714286                  1.0   \n",
       "464234               20   109             0.714286                  1.0   \n",
       "...                 ...   ...                  ...                  ...   \n",
       "1084986              20    69             0.625000                  1.0   \n",
       "1137804              20   287             0.625000                  1.0   \n",
       "889714               20   188             0.625000                  1.0   \n",
       "1081226              20   129             0.625000                  1.0   \n",
       "889711               20    76             0.625000                  1.0   \n",
       "\n",
       "         skip_3_sk2True_mean  not_skipped_sk2True_mean  ...       tempo  \\\n",
       "463004                   1.0                       0.0  ...  142.056000   \n",
       "463045                   1.0                       0.0  ...  142.029007   \n",
       "464069                   1.0                       0.0  ...  142.014999   \n",
       "464215                   1.0                       0.0  ...  142.065002   \n",
       "464234                   1.0                       0.0  ...  140.037994   \n",
       "...                      ...                       ...  ...         ...   \n",
       "1084986                  1.0                       0.0  ...  165.897003   \n",
       "1137804                  1.0                       0.0  ...  179.990005   \n",
       "889714                   1.0                       0.0  ...  134.014008   \n",
       "1081226                  1.0                       0.0  ...  135.860992   \n",
       "889711                   1.0                       0.0  ...  121.025002   \n",
       "\n",
       "          valence  acoustic_vector_0  acoustic_vector_1  acoustic_vector_2  \\\n",
       "463004   0.556551          -0.448360           0.266142           0.200711   \n",
       "463045   0.254356          -0.309036           0.217209           0.225878   \n",
       "464069   0.173213          -0.350981           0.286125           0.236305   \n",
       "464215   0.192292          -0.346976           0.306263           0.263410   \n",
       "464234   0.099212          -0.313165           0.229884           0.208512   \n",
       "...           ...                ...                ...                ...   \n",
       "1084986  0.268866           0.063448           0.452877          -0.178410   \n",
       "1137804  0.347908           0.169253           0.614182          -0.390072   \n",
       "889714   0.718833           0.077334           0.471669          -0.277773   \n",
       "1081226  0.389706           0.183129           0.135919          -0.423383   \n",
       "889711   0.559319           0.181210           0.252623          -0.153378   \n",
       "\n",
       "         acoustic_vector_3  acoustic_vector_4  acoustic_vector_5  \\\n",
       "463004           -0.102771          -0.552026           0.167256   \n",
       "463045           -0.143391          -0.540390           0.220587   \n",
       "464069           -0.114115          -0.523562           0.217533   \n",
       "464215           -0.157135          -0.554300           0.240247   \n",
       "464234           -0.152276          -0.645428           0.243758   \n",
       "...                    ...                ...                ...   \n",
       "1084986          -0.603517           0.177323           0.126411   \n",
       "1137804          -0.725376           0.397905           0.171512   \n",
       "889714           -0.722327           0.294819           0.186959   \n",
       "1081226          -0.510713           0.689540           0.149603   \n",
       "889711           -0.705467           0.152824           0.258996   \n",
       "\n",
       "         acoustic_vector_6  acoustic_vector_7  \n",
       "463004           -0.056987           0.605874  \n",
       "463045            0.037699           0.617515  \n",
       "464069            0.099462           0.628256  \n",
       "464215            0.083986           0.636656  \n",
       "464234            0.069302           0.795294  \n",
       "...                    ...                ...  \n",
       "1084986          -0.378101           0.060804  \n",
       "1137804          -0.376916           0.395052  \n",
       "889714           -0.470139           0.162687  \n",
       "1081226          -0.344343           0.013874  \n",
       "889711           -0.435694          -0.097788  \n",
       "\n",
       "[1363022 rows x 313 columns]"
      ]
     },
     "execution_count": 6,
     "metadata": {},
     "output_type": "execute_result"
    }
   ],
   "source": [
    "df_lookup"
   ]
  },
  {
   "cell_type": "code",
   "execution_count": 7,
   "id": "1f2792e7",
   "metadata": {},
   "outputs": [
    {
     "data": {
      "text/plain": [
       "463004     False\n",
       "463045      True\n",
       "464069      True\n",
       "464215      True\n",
       "464234      True\n",
       "           ...  \n",
       "1084986    False\n",
       "1137804    False\n",
       "889714     False\n",
       "1081226    False\n",
       "889711     False\n",
       "Name: skip_2, Length: 1363022, dtype: bool"
      ]
     },
     "execution_count": 7,
     "metadata": {},
     "output_type": "execute_result"
    }
   ],
   "source": [
    "ytrue = df_lookup['skip_2']\n",
    "ytrue"
   ]
  },
  {
   "cell_type": "code",
   "execution_count": 8,
   "id": "7cdd4e7d",
   "metadata": {},
   "outputs": [
    {
     "data": {
      "text/plain": [
       "array([0.74003304, 0.68495241, 0.66936033, ..., 0.46534724, 0.41367486,\n",
       "       0.42543361])"
      ]
     },
     "execution_count": 8,
     "metadata": {},
     "output_type": "execute_result"
    }
   ],
   "source": [
    "ypred"
   ]
  },
  {
   "cell_type": "markdown",
   "id": "de968238",
   "metadata": {},
   "source": [
    "As it is too slow to calculate the AP of all the sessions in a file. I picked the first 10000 tracks as the validation dataset."
   ]
  },
  {
   "cell_type": "code",
   "execution_count": 9,
   "id": "4b455204",
   "metadata": {},
   "outputs": [],
   "source": [
    "s_list = df_lookup['session_id'].unique()[0:10000]\n",
    "sel_row = df_lookup['session_id'].isin(s_list)"
   ]
  },
  {
   "cell_type": "code",
   "execution_count": 10,
   "id": "892562ff",
   "metadata": {},
   "outputs": [],
   "source": [
    "ap,first_pred_acc  = mf.spotify_eval(ytrue[sel_row], ypred[sel_row]>0.5, df_lookup.loc[sel_row])"
   ]
  },
  {
   "cell_type": "code",
   "execution_count": 11,
   "id": "02eb1324",
   "metadata": {},
   "outputs": [
    {
     "data": {
      "text/plain": [
       "0.5706305176051972"
      ]
     },
     "execution_count": 11,
     "metadata": {},
     "output_type": "execute_result"
    }
   ],
   "source": [
    "ap"
   ]
  },
  {
   "cell_type": "code",
   "execution_count": 12,
   "id": "bd9f901a",
   "metadata": {},
   "outputs": [
    {
     "data": {
      "text/plain": [
       "0.7439"
      ]
     },
     "execution_count": 12,
     "metadata": {},
     "output_type": "execute_result"
    }
   ],
   "source": [
    "first_pred_acc"
   ]
  },
  {
   "cell_type": "markdown",
   "id": "c52840fd",
   "metadata": {},
   "source": [
    "A sanity check whether 0.5 is the best threshold (although this information cannot be obtain a priori)"
   ]
  },
  {
   "cell_type": "code",
   "execution_count": 13,
   "id": "af837e66",
   "metadata": {},
   "outputs": [
    {
     "data": {
      "text/plain": [
       "0.6767506320514269"
      ]
     },
     "execution_count": 13,
     "metadata": {},
     "output_type": "execute_result"
    }
   ],
   "source": [
    "from sklearn.metrics import accuracy_score\n",
    "acc = []\n",
    "for x in np.arange(0,1,0.01):\n",
    "    acc.append(accuracy_score(ypred>x, ytrue*1))\n",
    "\n",
    "max(acc)"
   ]
  },
  {
   "cell_type": "code",
   "execution_count": 14,
   "id": "5fb9ce2f",
   "metadata": {},
   "outputs": [
    {
     "data": {
      "image/png": "[encoded data removed]",
      "text/plain": [
       "<Figure size 640x480 with 1 Axes>"
      ]
     },
     "metadata": {},
     "output_type": "display_data"
    },
    {
     "data": {
      "text/plain": [
       "0.5"
      ]
     },
     "execution_count": 14,
     "metadata": {},
     "output_type": "execute_result"
    }
   ],
   "source": [
    "import matplotlib.pyplot as plt\n",
    "plt.plot(np.arange(0,1,0.01), acc)\n",
    "plt.show()\n",
    "max_index = acc.index(max(acc))\n",
    "max_index/100"
   ]
  },
  {
   "cell_type": "markdown",
   "id": "bf683f54",
   "metadata": {},
   "source": [
    "Yes, 0.5 is the best threshold."
   ]
  },
  {
   "cell_type": "markdown",
   "id": "a1de6af5",
   "metadata": {},
   "source": [
    "# Visualizing the influence of each feature by SHAP"
   ]
  },
  {
   "cell_type": "markdown",
   "id": "97c1ba24",
   "metadata": {},
   "source": [
    "SHAP (SHapley Additive exPlanations) is a game theoretic approach to explain the output of any machine learning model.\n",
    "\n",
    "https://shap.readthedocs.io/en/latest/"
   ]
  },
  {
   "cell_type": "code",
   "execution_count": null,
   "id": "aa6f6a5e",
   "metadata": {},
   "outputs": [],
   "source": [
    "import shap\n",
    "\n",
    "# print the JS visualization code to the notebook\n",
    "shap.initjs()"
   ]
  },
  {
   "cell_type": "code",
   "execution_count": null,
   "id": "4f26880c",
   "metadata": {},
   "outputs": [],
   "source": [
    "bst.params['objective'] = 'binary'\n",
    "bst.params"
   ]
  },
  {
   "cell_type": "code",
   "execution_count": null,
   "id": "c3694503",
   "metadata": {},
   "outputs": [],
   "source": [
    "explainer = shap.TreeExplainer(bst)"
   ]
  },
  {
   "cell_type": "code",
   "execution_count": null,
   "id": "8471c4b9",
   "metadata": {},
   "outputs": [],
   "source": [
    "start = timer()\n",
    "shap_values = explainer.shap_values(df_test)\n",
    "print('Runtime per batch: %0.2fs' % (timer() - start))"
   ]
  },
  {
   "cell_type": "code",
   "execution_count": null,
   "id": "e7168b1e",
   "metadata": {},
   "outputs": [],
   "source": [
    "shap.summary_plot(shap_values[0], df_test, max_display = 40, plot_size = (15,10), show=False)\n",
    "plt.savefig('../reports/figures/SHAPsummary0_boost_alltracks_incrementalTrain_10_dec23.png')\n",
    "plt.show()"
   ]
  },
  {
   "cell_type": "code",
   "execution_count": null,
   "id": "4ea465c6",
   "metadata": {},
   "outputs": [],
   "source": [
    "shap.summary_plot(shap_values[1], df_test, max_display = 40, plot_size = (15,10), show=False)\n",
    "plt.savefig('../reports/figures/SHAPsummary1_boost_alltracks_incrementalTrain_10_dec23.png')\n",
    "plt.show()"
   ]
  },
  {
   "cell_type": "markdown",
   "id": "e56a1bf8",
   "metadata": {},
   "source": [
    "How to interpret this plot? Take the \"SHAPsummary1\" for instance, the \"SpearCorr300\" feature in the plot means that, the observations with lower values of SpearCorr300 (more blue) are more likely to be predict it as \"skip2==True\" (higher SHAP value). It makes sense as lower SpearCorr300 means the current track is less similar with the preferred tracks in the 1st half of the same session. For the \"SHAPsummary0\" plot, it is the opposite (skip2==False). See my report for more in-depth interpretations."
   ]
  },
  {
   "cell_type": "code",
   "execution_count": null,
   "id": "9aa49a3f",
   "metadata": {},
   "outputs": [],
   "source": [
    "# shap.dependence_plot(ind = 'session_position', shap_values=shap_values[0], features=df_test, show=False)\n",
    "# plt.savefig(\"my_dependence_plot.pdf\")\n",
    "# plt.show()"
   ]
  },
  {
   "cell_type": "code",
   "execution_count": null,
   "id": "91b52c24",
   "metadata": {},
   "outputs": [],
   "source": [
    "# shap.force_plot(explainer.expected_value[1], shap_values[1][:1000,:], df_test.iloc[:1000,:])"
   ]
  },
  {
   "cell_type": "code",
   "execution_count": null,
   "id": "0a9ec78a",
   "metadata": {},
   "outputs": [],
   "source": []
  }
 ],
 "metadata": {
  "kernelspec": {
   "display_name": "Python 3 (ipykernel)",
   "language": "python",
   "name": "python3"
  },
  "language_info": {
   "codemirror_mode": {
    "name": "ipython",
    "version": 3
   },
   "file_extension": ".py",
   "mimetype": "text/x-python",
   "name": "python",
   "nbconvert_exporter": "python",
   "pygments_lexer": "ipython3",
   "version": "3.8.13"
  }
 },
 "nbformat": 4,
 "nbformat_minor": 5
}
