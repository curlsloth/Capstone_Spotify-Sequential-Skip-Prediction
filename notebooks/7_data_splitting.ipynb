{
 "cells": [
  {
   "cell_type": "code",
   "execution_count": 1,
   "id": "fffc1d9c",
   "metadata": {},
   "outputs": [],
   "source": [
    "import glob\n",
    "import random\n",
    "import pandas as pd\n",
    "n_file_valid = 2\n",
    "valid_list = []\n",
    "train_list = []\n",
    "for n in range(10):\n",
    "    file_list = glob.glob('../data/raw/training_set/log_'+str(n)+'*.csv')\n",
    "    random.Random(23).shuffle(file_list)\n",
    "    valid_list = valid_list + file_list[:n_file_valid]\n",
    "    train_list = train_list + file_list[n_file_valid:]\n"
   ]
  },
  {
   "cell_type": "code",
   "execution_count": 2,
   "id": "382a07af",
   "metadata": {},
   "outputs": [],
   "source": [
    "pd.DataFrame(valid_list).to_csv('../data/interim/train_valid_split_1217/valid_file_list.csv', header = False, index = False)"
   ]
  },
  {
   "cell_type": "code",
   "execution_count": 3,
   "id": "128a52d7",
   "metadata": {},
   "outputs": [],
   "source": [
    "pd.DataFrame(train_list).to_csv('../data/interim/train_valid_split_1217/train_file_list.csv', header = False, index = False)"
   ]
  },
  {
   "cell_type": "code",
   "execution_count": null,
   "id": "a597a9bf",
   "metadata": {},
   "outputs": [],
   "source": []
  }
 ],
 "metadata": {
  "kernelspec": {
   "display_name": "Python 3 (ipykernel)",
   "language": "python",
   "name": "python3"
  },
  "language_info": {
   "codemirror_mode": {
    "name": "ipython",
    "version": 3
   },
   "file_extension": ".py",
   "mimetype": "text/x-python",
   "name": "python",
   "nbconvert_exporter": "python",
   "pygments_lexer": "ipython3",
   "version": "3.8.13"
  }
 },
 "nbformat": 4,
 "nbformat_minor": 5
}
