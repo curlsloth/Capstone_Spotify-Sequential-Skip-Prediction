{
 "cells": [
  {
   "cell_type": "code",
   "execution_count": null,
   "id": "7e989d9f",
   "metadata": {},
   "outputs": [],
   "source": [
    "def myFunc(y_true, y_pred, df):\n",
    "    df[y_true.index.values,'y_pred'] = y_pred\n",
    "    ground_truths = get_ground_truth(df)\n",
    "    submission = get_submission(df)\n",
    "    ap,first_pred_acc = evaluate(submission,ground_truths)\n",
    "    return ap"
   ]
  },
  {
   "cell_type": "code",
   "execution_count": null,
   "id": "aceeb690",
   "metadata": {},
   "outputs": [],
   "source": []
  },
  {
   "cell_type": "code",
   "execution_count": null,
   "id": "44f5f7dc",
   "metadata": {},
   "outputs": [],
   "source": []
  },
  {
   "cell_type": "code",
   "execution_count": null,
   "id": "aa12b64d",
   "metadata": {},
   "outputs": [],
   "source": []
  },
  {
   "cell_type": "code",
   "execution_count": null,
   "id": "16571707",
   "metadata": {},
   "outputs": [],
   "source": []
  },
  {
   "cell_type": "code",
   "execution_count": 14,
   "id": "0083d297",
   "metadata": {},
   "outputs": [],
   "source": [
    "import numpy as np\n",
    "from sklearn.datasets import load_iris\n",
    "from sklearn.ensemble import RandomForestClassifier\n",
    "from sklearn.metrics import log_loss\n",
    "from sklearn.model_selection import GridSearchCV, RepeatedKFold\n",
    "from sklearn.metrics import  make_scorer\n",
    "import pandas as pd"
   ]
  },
  {
   "cell_type": "code",
   "execution_count": 71,
   "id": "87172f9a",
   "metadata": {},
   "outputs": [
    {
     "data": {
      "text/html": [
       "<div>\n",
       "<style scoped>\n",
       "    .dataframe tbody tr th:only-of-type {\n",
       "        vertical-align: middle;\n",
       "    }\n",
       "\n",
       "    .dataframe tbody tr th {\n",
       "        vertical-align: top;\n",
       "    }\n",
       "\n",
       "    .dataframe thead th {\n",
       "        text-align: right;\n",
       "    }\n",
       "</style>\n",
       "<table border=\"1\" class=\"dataframe\">\n",
       "  <thead>\n",
       "    <tr style=\"text-align: right;\">\n",
       "      <th></th>\n",
       "      <th>col1</th>\n",
       "      <th>col2</th>\n",
       "    </tr>\n",
       "  </thead>\n",
       "  <tbody>\n",
       "    <tr>\n",
       "      <th>0</th>\n",
       "      <td>1.000000</td>\n",
       "      <td>1</td>\n",
       "    </tr>\n",
       "    <tr>\n",
       "      <th>1</th>\n",
       "      <td>0.333333</td>\n",
       "      <td>1</td>\n",
       "    </tr>\n",
       "    <tr>\n",
       "      <th>2</th>\n",
       "      <td>0.166667</td>\n",
       "      <td>1</td>\n",
       "    </tr>\n",
       "    <tr>\n",
       "      <th>3</th>\n",
       "      <td>0.100000</td>\n",
       "      <td>1</td>\n",
       "    </tr>\n",
       "    <tr>\n",
       "      <th>4</th>\n",
       "      <td>0.066667</td>\n",
       "      <td>1</td>\n",
       "    </tr>\n",
       "  </tbody>\n",
       "</table>\n",
       "</div>"
      ],
      "text/plain": [
       "       col1  col2\n",
       "0  1.000000     1\n",
       "1  0.333333     1\n",
       "2  0.166667     1\n",
       "3  0.100000     1\n",
       "4  0.066667     1"
      ]
     },
     "execution_count": 71,
     "metadata": {},
     "output_type": "execute_result"
    }
   ],
   "source": [
    "# X, y = load_iris(return_X_y=True)\n",
    "# index = ['r%d' % x for x in range(len(y))]\n",
    "# y_frame = pd.DataFrame(y, index=index)\n",
    "# sample_weight = np.array([1 + 100 * (i % 25) for i in range(len(X))])\n",
    "# sample_weight_frame = pd.DataFrame(sample_weight, index=index)\n",
    "sample_weight_frame = pd.DataFrame({'col1':[1,1/3,1/6,1/10,1/15], 'col2':[1,1,1,1,1]})\n",
    "sample_weight_frame\n"
   ]
  },
  {
   "cell_type": "code",
   "execution_count": 73,
   "id": "8c9065da",
   "metadata": {},
   "outputs": [
    {
     "data": {
      "text/html": [
       "<div>\n",
       "<style scoped>\n",
       "    .dataframe tbody tr th:only-of-type {\n",
       "        vertical-align: middle;\n",
       "    }\n",
       "\n",
       "    .dataframe tbody tr th {\n",
       "        vertical-align: top;\n",
       "    }\n",
       "\n",
       "    .dataframe thead th {\n",
       "        text-align: right;\n",
       "    }\n",
       "</style>\n",
       "<table border=\"1\" class=\"dataframe\">\n",
       "  <thead>\n",
       "    <tr style=\"text-align: right;\">\n",
       "      <th></th>\n",
       "      <th>col1</th>\n",
       "      <th>col2</th>\n",
       "    </tr>\n",
       "  </thead>\n",
       "  <tbody>\n",
       "    <tr>\n",
       "      <th>1</th>\n",
       "      <td>0.333333</td>\n",
       "      <td>1</td>\n",
       "    </tr>\n",
       "    <tr>\n",
       "      <th>2</th>\n",
       "      <td>0.166667</td>\n",
       "      <td>1</td>\n",
       "    </tr>\n",
       "  </tbody>\n",
       "</table>\n",
       "</div>"
      ],
      "text/plain": [
       "       col1  col2\n",
       "1  0.333333     1\n",
       "2  0.166667     1"
      ]
     },
     "execution_count": 73,
     "metadata": {},
     "output_type": "execute_result"
    }
   ],
   "source": [
    "sample_weight_frame.loc[1:2]"
   ]
  },
  {
   "cell_type": "code",
   "execution_count": 70,
   "id": "09c9eb19",
   "metadata": {},
   "outputs": [
    {
     "data": {
      "text/plain": [
       "array([0, 1, 2, 3, 4])"
      ]
     },
     "execution_count": 70,
     "metadata": {},
     "output_type": "execute_result"
    }
   ],
   "source": [
    "y_true.index.values"
   ]
  },
  {
   "cell_type": "code",
   "execution_count": 75,
   "id": "ea17f9f3",
   "metadata": {},
   "outputs": [
    {
     "name": "stdout",
     "output_type": "stream",
     "text": [
      "\n"
     ]
    }
   ],
   "source": [
    "print()"
   ]
  },
  {
   "cell_type": "code",
   "execution_count": 66,
   "id": "c3c03e44",
   "metadata": {},
   "outputs": [
    {
     "name": "stdout",
     "output_type": "stream",
     "text": [
      "[0.]\n",
      "[0.33333333]\n",
      "[0.16666667]\n",
      "[0.1]\n",
      "[0.06666667]\n"
     ]
    },
    {
     "data": {
      "text/plain": [
       "0.13333333333333333"
      ]
     },
     "execution_count": 66,
     "metadata": {},
     "output_type": "execute_result"
    }
   ],
   "source": [
    "def myFunc(y_true, y_pred, sample_weight):\n",
    "    weight = sample_weight.loc[y_true.index.values].values.reshape(-1)\n",
    "#     print(y_true.index.values)\n",
    "#     print(weight)\n",
    "    aa_list = []\n",
    "    for x, y, z in zip(y_true.values.tolist(), y_pred, weight):\n",
    "        print((x==y)*z)\n",
    "        aa_list.append((x==y)*z)\n",
    "    aa = np.mean(aa_list)\n",
    "#     print(aa_list)\n",
    "    return aa\n",
    "\n",
    "y_true = pd.DataFrame(np.array([True, True, True, True, True]))\n",
    "y_pred = np.array([False, True, True, True, True])\n",
    "sample_weight_frame\n",
    "myFunc(y_true, y_pred, sample_weight_frame)"
   ]
  },
  {
   "cell_type": "code",
   "execution_count": 49,
   "id": "da13b0af",
   "metadata": {},
   "outputs": [
    {
     "data": {
      "text/plain": [
       "[[1], [1], [1], [1], [1]]"
      ]
     },
     "execution_count": 49,
     "metadata": {},
     "output_type": "execute_result"
    }
   ],
   "source": [
    "y_true.values.tolist()"
   ]
  },
  {
   "cell_type": "code",
   "execution_count": 57,
   "id": "a1261f56",
   "metadata": {},
   "outputs": [
    {
     "data": {
      "text/plain": [
       "[([1], [0], 1.0),\n",
       " ([1], [1], 0.3333333333333333),\n",
       " ([1], [1], 0.16666666666666666),\n",
       " ([1], [1], 0.1),\n",
       " ([1], [1], 0.06666666666666667)]"
      ]
     },
     "execution_count": 57,
     "metadata": {},
     "output_type": "execute_result"
    }
   ],
   "source": [
    "list(zip(y_true.values.tolist(), y_pred.values.tolist(), sample_weight_frame.values.reshape(-1).tolist()))"
   ]
  },
  {
   "cell_type": "code",
   "execution_count": 25,
   "id": "9da85039",
   "metadata": {},
   "outputs": [
    {
     "data": {
      "text/plain": [
       "array([  1, 101, 201, 301, 401, 501, 601, 701, 801])"
      ]
     },
     "execution_count": 25,
     "metadata": {},
     "output_type": "execute_result"
    }
   ],
   "source": [
    "y_true = [1,1,1,1,1,1,1,1,1,1]\n",
    "y_pred = [0,0,0,0,0,0,0,0,0,0]\n",
    "sample_weight2 = sample_weight[0:9]\n",
    "sample_weight2"
   ]
  },
  {
   "cell_type": "code",
   "execution_count": 26,
   "id": "ac4c2be7",
   "metadata": {},
   "outputs": [
    {
     "ename": "AttributeError",
     "evalue": "'list' object has no attribute 'values'",
     "output_type": "error",
     "traceback": [
      "\u001b[0;31m---------------------------------------------------------------------------\u001b[0m",
      "\u001b[0;31mAttributeError\u001b[0m                            Traceback (most recent call last)",
      "Cell \u001b[0;32mIn [26], line 1\u001b[0m\n\u001b[0;32m----> 1\u001b[0m \u001b[43my_true\u001b[49m\u001b[38;5;241;43m.\u001b[39;49m\u001b[43mvalues\u001b[49m\n",
      "\u001b[0;31mAttributeError\u001b[0m: 'list' object has no attribute 'values'"
     ]
    }
   ],
   "source": [
    "y_true.values"
   ]
  },
  {
   "cell_type": "code",
   "execution_count": null,
   "id": "b692901b",
   "metadata": {},
   "outputs": [],
   "source": [
    "log_loss(y_true.values, y_pred,\n",
    "                  sample_weight=sample_weight.loc[y_true.index.values].values.reshape(-1),\n",
    "                  normalize=True)"
   ]
  },
  {
   "cell_type": "code",
   "execution_count": null,
   "id": "33624e81",
   "metadata": {},
   "outputs": [],
   "source": [
    "\n",
    "\n",
    "\n",
    "X, y = load_iris(return_X_y=True)\n",
    "index = ['r%d' % x for x in range(len(y))]\n",
    "y_frame = pd.DataFrame(y, index=index)\n",
    "sample_weight = np.array([1 + 100 * (i % 25) for i in range(len(X))])\n",
    "sample_weight_frame = pd.DataFrame(sample_weight, index=index)\n",
    "\n",
    "# more code\n",
    "\n",
    "def score_f(y_true, y_pred, sample_weight):\n",
    "return log_loss(y_true.values, y_pred,\n",
    "                  sample_weight=sample_weight.loc[y_true.index.values].values.reshape(-1),\n",
    "                  normalize=True)\n",
    "\n",
    "score_params = {\"sample_weight\": sample_weight_frame}\n",
    "\n",
    "my_scorer = make_scorer(score_f,\n",
    "                      greater_is_better=False, \n",
    "                      needs_proba=True, \n",
    "                      needs_threshold=False,\n",
    "                      **score_params)\n",
    "\n",
    "grid_clf = GridSearchCV(estimator=rfc,\n",
    "                      scoring=my_scorer,\n",
    "                      cv=inner_cv,\n",
    "                      param_grid=search_params,\n",
    "                      refit=True,\n",
    "                      return_train_score=False,\n",
    "                      iid=False)  # in this usage, the results are the same for `iid=True` and `iid=False`\n",
    "\n",
    "grid_clf.fit(X, y_frame)"
   ]
  },
  {
   "cell_type": "code",
   "execution_count": 67,
   "id": "07b6b44f",
   "metadata": {},
   "outputs": [
    {
     "data": {
      "text/plain": [
       "0.38888888888888884"
      ]
     },
     "execution_count": 67,
     "metadata": {},
     "output_type": "execute_result"
    }
   ],
   "source": [
    "(0+ 1/2 + 2/3)/3"
   ]
  },
  {
   "cell_type": "code",
   "execution_count": 5,
   "id": "8a72eaab",
   "metadata": {},
   "outputs": [
    {
     "data": {
      "text/plain": [
       "0.5620437956204379"
      ]
     },
     "execution_count": 5,
     "metadata": {},
     "output_type": "execute_result"
    }
   ],
   "source": [
    "(0*1 + 1/(1+(2)) + 1/3 + 1/4 + 1/5)/(1 + 1/2 + 1/3 + 1/4 + 1/5)"
   ]
  },
  {
   "cell_type": "code",
   "execution_count": 6,
   "id": "fc1664e7",
   "metadata": {},
   "outputs": [
    {
     "data": {
      "text/plain": [
       "0.6666666666666666"
      ]
     },
     "execution_count": 6,
     "metadata": {},
     "output_type": "execute_result"
    }
   ],
   "source": [
    "1/(1+(2))"
   ]
  },
  {
   "cell_type": "code",
   "execution_count": 8,
   "id": "78f11af2",
   "metadata": {},
   "outputs": [
    {
     "data": {
      "text/plain": [
       "0.16666666666666666"
      ]
     },
     "execution_count": 8,
     "metadata": {},
     "output_type": "execute_result"
    }
   ],
   "source": [
    "1/(1+2+3)"
   ]
  },
  {
   "cell_type": "code",
   "execution_count": 68,
   "id": "3f59e9dd",
   "metadata": {},
   "outputs": [
    {
     "data": {
      "text/plain": [
       "0.3333333333333333"
      ]
     },
     "execution_count": 68,
     "metadata": {},
     "output_type": "execute_result"
    }
   ],
   "source": [
    "(0*1 + 1/(1+2) + 1/(1+2+3) )/(1 + 1/3 + 1/6)"
   ]
  },
  {
   "cell_type": "code",
   "execution_count": 28,
   "id": "5a180d6a",
   "metadata": {},
   "outputs": [
    {
     "data": {
      "text/plain": [
       "False"
      ]
     },
     "execution_count": 28,
     "metadata": {},
     "output_type": "execute_result"
    }
   ],
   "source": [
    "y_true = [1,1,1,1,1]\n",
    "y_pred = [0,1,1,1,1]\n",
    "y_true == y_pred"
   ]
  },
  {
   "cell_type": "code",
   "execution_count": null,
   "id": "4e58ede9",
   "metadata": {},
   "outputs": [],
   "source": [
    "from __future__ import division\n",
    "\n",
    "import numpy as np\n",
    "from sklearn.datasets import load_iris\n",
    "from sklearn.ensemble import RandomForestClassifier\n",
    "from sklearn.metrics import log_loss\n",
    "from sklearn.model_selection import GridSearchCV, RepeatedKFold\n",
    "from sklearn.metrics import  make_scorer\n",
    "import pandas as pd\n",
    "\n",
    "def grid_cv(X_in, y_in, w_in, cv, max_features_grid, use_weighting):\n",
    "    out_results = dict()\n",
    "\n",
    "    for k in max_features_grid:\n",
    "    clf = RandomForestClassifier(n_estimators=256,\n",
    "                                 criterion=\"entropy\",\n",
    "                                 warm_start=False,\n",
    "                                 n_jobs=1,\n",
    "                                 random_state=RANDOM_STATE,\n",
    "                                 max_features=k)\n",
    "    for train_ndx, test_ndx in cv.split(X=X_in, y=y_in):\n",
    "        X_train = X_in[train_ndx, :]\n",
    "        y_train = y_in[train_ndx]\n",
    "        w_train = w_in[train_ndx]\n",
    "        y_test = y_in[test_ndx]\n",
    "\n",
    "        clf.fit(X=X_train, y=y_train, sample_weight=w_train)\n",
    "\n",
    "        y_hat = clf.predict_proba(X=X_in[test_ndx, :])\n",
    "        if use_weighting:\n",
    "        w_test = w_in[test_ndx]\n",
    "        w_i_sum = w_test.sum()\n",
    "        score = w_i_sum / w_in.sum() * log_loss(y_true=y_test, y_pred=y_hat, sample_weight=w_test)\n",
    "        else:\n",
    "        score = log_loss(y_true=y_test, y_pred=y_hat)\n",
    "\n",
    "        results = out_results.get(k, [])\n",
    "        results.append(score)\n",
    "        out_results.update({k: results})\n",
    "\n",
    "    for k, v in out_results.items():\n",
    "    if use_weighting:\n",
    "        mean_score = sum(v)\n",
    "    else:\n",
    "        mean_score = np.mean(v)\n",
    "    out_results.update({k: mean_score})\n",
    "\n",
    "    best_score = min(out_results.values())\n",
    "    best_param = min(out_results, key=out_results.get)\n",
    "    return best_score, best_param\n",
    "\n",
    "\n",
    "#if __name__ == \"__main__\":\n",
    "if True:\n",
    "    RANDOM_STATE = 1337\n",
    "    X, y = load_iris(return_X_y=True)\n",
    "    index = ['r%d' % x for x in range(len(y))]\n",
    "    y_frame = pd.DataFrame(y, index=index)\n",
    "    sample_weight = np.array([1 + 100 * (i % 25) for i in range(len(X))])\n",
    "    sample_weight_frame = pd.DataFrame(sample_weight, index=index)\n",
    "    # sample_weight = np.array([1 for _ in range(len(X))])\n",
    "\n",
    "    inner_cv = RepeatedKFold(n_splits=3, n_repeats=1, random_state=RANDOM_STATE)\n",
    "\n",
    "    outer_cv = RepeatedKFold(n_splits=3, n_repeats=1, random_state=RANDOM_STATE)\n",
    "\n",
    "    rfc = RandomForestClassifier(n_estimators=256,\n",
    "                               criterion=\"entropy\",\n",
    "                               warm_start=False,\n",
    "                               n_jobs=1,\n",
    "                               random_state=RANDOM_STATE)\n",
    "    search_params = {\"max_features\": [1, 2, 3, 4]}\n",
    "\n",
    "\n",
    "    def score_f(y_true, y_pred, sample_weight):\n",
    "        return log_loss(y_true.values, y_pred,\n",
    "                      sample_weight=sample_weight.loc[y_true.index.values].values.reshape(-1),\n",
    "                      normalize=True)\n",
    "\n",
    "    score_params = {\"sample_weight\": sample_weight_frame}\n",
    "    my_scorer = make_scorer(score_f,\n",
    "                          greater_is_better=False, \n",
    "                          needs_proba=True, \n",
    "                          needs_threshold=False,\n",
    "                          **score_params)\n",
    "\n",
    "    grid_clf = GridSearchCV(estimator=rfc,\n",
    "                          scoring=my_scorer,\n",
    "                          cv=inner_cv,\n",
    "                          param_grid=search_params,\n",
    "                          refit=True,\n",
    "                          return_train_score=False,\n",
    "                          iid=False)  # in this usage, the results are the same for `iid=True` and `iid=False`\n",
    "    grid_clf.fit(X, y_frame)\n",
    "    print(\"This is the best out-of-sample score using GridSearchCV: %.6f.\" % -grid_clf.best_score_)\n",
    "\n",
    "    msg = \"\"\"This is the best out-of-sample score %s weighting using grid_cv: %.6f.\"\"\"\n",
    "    score_with_weights, param_with_weights = grid_cv(X_in=X,\n",
    "                                                   y_in=y,\n",
    "                                                   w_in=sample_weight,\n",
    "                                                   cv=inner_cv,\n",
    "                                                   max_features_grid=search_params.get(\n",
    "                                                     \"max_features\"),\n",
    "                                                   use_weighting=True)\n",
    "    print(msg % (\"WITH\", score_with_weights))\n",
    "\n",
    "    score_without_weights, param_without_weights = grid_cv(X_in=X,\n",
    "                                                         y_in=y,\n",
    "                                                         w_in=sample_weight,\n",
    "                                                         cv=inner_cv,\n",
    "                                                         max_features_grid=search_params.get(\n",
    "                                                           \"max_features\"),\n",
    "                                                         use_weighting=False)\n",
    "    print(msg % (\"WITHOUT\", score_without_weights))"
   ]
  }
 ],
 "metadata": {
  "kernelspec": {
   "display_name": "Python 3 (ipykernel)",
   "language": "python",
   "name": "python3"
  },
  "language_info": {
   "codemirror_mode": {
    "name": "ipython",
    "version": 3
   },
   "file_extension": ".py",
   "mimetype": "text/x-python",
   "name": "python",
   "nbconvert_exporter": "python",
   "pygments_lexer": "ipython3",
   "version": "3.8.13"
  }
 },
 "nbformat": 4,
 "nbformat_minor": 5
}
