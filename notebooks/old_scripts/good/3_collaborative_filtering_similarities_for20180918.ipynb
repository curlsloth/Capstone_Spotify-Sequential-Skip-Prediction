{
 "cells": [
  {
   "cell_type": "markdown",
   "id": "796d1dfd",
   "metadata": {},
   "source": [
    "# Collaborative filtering based on the listening behavior in the previous week"
   ]
  },
  {
   "cell_type": "markdown",
   "id": "7562c6a3",
   "metadata": {},
   "source": [
    "The goal is to estimate the skipping behavior for the sessions on Sep 18, 2018 (20180918). Although larger sample size can calculate more precise collaborative filtering, considering the listening behavior and people's preference might change from day to day, the older data might have less informatuve information for the future. Therefore, only the data within the previous week was included here."
   ]
  },
  {
   "cell_type": "code",
   "execution_count": 1,
   "id": "7be02a44",
   "metadata": {},
   "outputs": [],
   "source": [
    "import pandas as pd\n",
    "import numpy as np\n"
   ]
  },
  {
   "cell_type": "code",
   "execution_count": 2,
   "id": "af081516",
   "metadata": {
    "scrolled": true
   },
   "outputs": [],
   "source": [
    "# 7 days\n",
    "file_list = []\n",
    "for dateCode in range(911,918):\n",
    "    for logN in range(10):\n",
    "        file_list.append('../models/SVD/all_tracks/k300_v_log_'+str(logN)+'_20180'+str(dateCode)+'_000000000000.csv')\n",
    "        \n",
    "file_list"
   ]
  },
  {
   "cell_type": "markdown",
   "id": "036c6ade",
   "metadata": {},
   "source": [
    "There could be many ways to perform the collaborative filtering, ranging from the most common options such as cosine similarity and Pearson correlation to something uncommon such as Chebyshev distance.\n",
    "\n",
    "Anyway, here, without any prior assumption, I calculated 11 versions of similarity/distance for collaborative filtering. The idea is that the joint force of multiple indexes should provide more useful information than any one."
   ]
  },
  {
   "cell_type": "code",
   "execution_count": 4,
   "id": "3a1c14b3",
   "metadata": {},
   "outputs": [],
   "source": [
    "def cal_sim_svd(filename):\n",
    "    v = pd.read_csv(filename).drop(columns=['Unnamed: 0'])\n",
    "    v.columns = list(map(str, range(0,len(v)))) # make the column names 0 to 99 to match other data\n",
    "    TrackTrackCosSim = v.transpose().dot(v) \n",
    "    TrackTrackLinCorr = v.corr()\n",
    "    TrackTrackSpearCorr = v.corr(method = 'spearman')\n",
    "    TrackTrackKendCorr = v.corr(method = 'kendall')\n",
    "    \n",
    "    from scipy.spatial.distance import cdist\n",
    "    TrackTrackEuclDist = pd.DataFrame(cdist(v.T,v.T, 'euclidean'), index = TrackTrackCosSim.index, columns = TrackTrackCosSim.columns)\n",
    "    TrackTrackManhDist = pd.DataFrame(cdist(v.T,v.T, 'cityblock'), index = TrackTrackCosSim.index, columns = TrackTrackCosSim.columns)\n",
    "    TrackTrackSqEuclDist = pd.DataFrame(cdist(v.T,v.T, 'sqeuclidean'), index = TrackTrackCosSim.index, columns = TrackTrackCosSim.columns)\n",
    "    TrackTrackCanbDist = pd.DataFrame(cdist(v.T,v.T, 'canberra'), index = TrackTrackCosSim.index, columns = TrackTrackCosSim.columns)\n",
    "    TrackTrackHammDist = pd.DataFrame(cdist(v.T>0,v.T>0, 'hamming'), index = TrackTrackCosSim.index, columns = TrackTrackCosSim.columns)\n",
    "    TrackTrackChebDist = pd.DataFrame(cdist(v.T,v.T, 'chebyshev'), index = TrackTrackCosSim.index, columns = TrackTrackCosSim.columns)\n",
    "    TrackTrackBrayDist = pd.DataFrame(cdist(v.T,v.T, 'braycurtis'), index = TrackTrackCosSim.index, columns = TrackTrackCosSim.columns)\n",
    "\n",
    "    \n",
    "    \n",
    "    sim_list = [TrackTrackCosSim, \n",
    "                TrackTrackLinCorr, \n",
    "                TrackTrackSpearCorr, \n",
    "                TrackTrackKendCorr, \n",
    "                TrackTrackEuclDist, \n",
    "                TrackTrackManhDist, \n",
    "                TrackTrackSqEuclDist, \n",
    "                TrackTrackCanbDist, \n",
    "                TrackTrackHammDist,\n",
    "                TrackTrackChebDist,\n",
    "                TrackTrackBrayDist]\n",
    "    \n",
    "    return sim_list\n",
    "    "
   ]
  },
  {
   "cell_type": "code",
   "execution_count": 6,
   "id": "1d89bdcc",
   "metadata": {},
   "outputs": [
    {
     "name": "stdout",
     "output_type": "stream",
     "text": [
      "Runtime: 165.87s\n"
     ]
    }
   ],
   "source": [
    "from timeit import default_timer as timer #to see how long the computation will take\n",
    "# import glob\n",
    "# file_list = glob.glob('../models/SVD/all_tracks/k300_v*.csv')\n",
    "\n",
    "TrackTrackCosSim_mean = 0\n",
    "TrackTrackLinCorr_mean = 0\n",
    "TrackTrackSpearCorr_mean = 0\n",
    "TrackTrackKendCorr_mean = 0\n",
    "TrackTrackEuclDist_mean = 0\n",
    "TrackTrackManhDist_mean = 0\n",
    "TrackTrackSqEuclDist_mean = 0\n",
    "TrackTrackCanbDist_mean = 0\n",
    "TrackTrackHammDist_mean = 0\n",
    "TrackTrackChebDist_mean = 0\n",
    "TrackTrackBrayDist_mean = 0\n",
    "\n",
    "start = timer()\n",
    "for filename in file_list:\n",
    "    sim_list = []\n",
    "    sim_list = cal_sim_svd(filename)\n",
    "    TrackTrackCosSim_mean = sim_list[0]+TrackTrackCosSim_mean\n",
    "    TrackTrackLinCorr_mean = sim_list[1]+TrackTrackLinCorr_mean\n",
    "    TrackTrackSpearCorr_mean = sim_list[2]+TrackTrackSpearCorr_mean\n",
    "    TrackTrackKendCorr_mean = sim_list[3]+TrackTrackKendCorr_mean\n",
    "    TrackTrackEuclDist_mean = sim_list[4]+TrackTrackEuclDist_mean\n",
    "    TrackTrackManhDist_mean = sim_list[5]+TrackTrackManhDist_mean\n",
    "    TrackTrackSqEuclDist_mean = sim_list[6]+TrackTrackSqEuclDist_mean\n",
    "    TrackTrackCanbDist_mean = sim_list[7]+TrackTrackCanbDist_mean\n",
    "    TrackTrackHammDist_mean = sim_list[8]+TrackTrackHammDist_mean\n",
    "    TrackTrackChebDist_mean = sim_list[9]+TrackTrackChebDist_mean\n",
    "    TrackTrackBrayDist_mean = sim_list[10]+TrackTrackBrayDist_mean\n",
    "    \n",
    "\n",
    "TrackTrackCosSim_mean = TrackTrackCosSim_mean/len(file_list)\n",
    "TrackTrackLinCorr_mean = TrackTrackLinCorr_mean/len(file_list)\n",
    "TrackTrackSpearCorr_mean = TrackTrackSpearCorr_mean/len(file_list)\n",
    "TrackTrackKendCorr_mean = TrackTrackKendCorr_mean/len(file_list)\n",
    "TrackTrackEuclDist_mean = TrackTrackEuclDist_mean/len(file_list)\n",
    "TrackTrackManhDist_mean = TrackTrackManhDist_mean/len(file_list)\n",
    "TrackTrackSqEuclDist_mean = TrackTrackSqEuclDist_mean/len(file_list)\n",
    "TrackTrackCanbDist_mean = TrackTrackCanbDist_mean/len(file_list)\n",
    "TrackTrackHammDist_mean = TrackTrackHammDist_mean/len(file_list)\n",
    "TrackTrackChebDist_mean = TrackTrackChebDist_mean/len(file_list)\n",
    "TrackTrackBrayDist_mean = TrackTrackBrayDist_mean/len(file_list)\n",
    "\n",
    "TrackTrackCosSim_mean.to_csv('../models/SVD/all_tracks/similarity_for20180918/k300_CosSim.csv')\n",
    "TrackTrackLinCorr_mean.to_csv('../models/SVD/all_tracks/similarity_for20180918/k300_LinCorr.csv')\n",
    "TrackTrackSpearCorr_mean.to_csv('../models/SVD/all_tracks/similarity_for20180918/k300_SpearCorr.csv')\n",
    "TrackTrackKendCorr_mean.to_csv('../models/SVD/all_tracks/similarity_for20180918/k300_KendCorr.csv')\n",
    "TrackTrackEuclDist_mean.to_csv('../models/SVD/all_tracks/similarity_for20180918/k300_EuclDist.csv') \n",
    "TrackTrackManhDist_mean.to_csv('../models/SVD/all_tracks/similarity_for20180918/k300_ManhDist.csv')\n",
    "TrackTrackSqEuclDist_mean.to_csv('../models/SVD/all_tracks/similarity_for20180918/k300_SqEuclDist.csv') \n",
    "TrackTrackCanbDist_mean.to_csv('../models/SVD/all_tracks/similarity_for20180918/k300_CanbDist.csv')\n",
    "TrackTrackHammDist_mean.to_csv('../models/SVD/all_tracks/similarity_for20180918/k300_HammDist.csv')\n",
    "TrackTrackChebDist_mean.to_csv('../models/SVD/all_tracks/similarity_for20180918/k300_ChebDist.csv')\n",
    "TrackTrackBrayDist_mean.to_csv('../models/SVD/all_tracks/similarity_for20180918/k300_BrayDist.csv')\n",
    "\n",
    "\n",
    "print('Runtime: %0.2fs' % (timer() - start))"
   ]
  },
  {
   "cell_type": "markdown",
   "id": "6e224688",
   "metadata": {},
   "source": [
    "Note that the Euclidean distance metrices are not helpful here, as Euclidean distance between any 2 vectors in an SVD unitary matrix will be always the same. Therefore, they won't be used in the following scripts."
   ]
  },
  {
   "cell_type": "code",
   "execution_count": null,
   "id": "c6c94ca1",
   "metadata": {},
   "outputs": [],
   "source": []
  }
 ],
 "metadata": {
  "kernelspec": {
   "display_name": "Python 3 (ipykernel)",
   "language": "python",
   "name": "python3"
  },
  "language_info": {
   "codemirror_mode": {
    "name": "ipython",
    "version": 3
   },
   "file_extension": ".py",
   "mimetype": "text/x-python",
   "name": "python",
   "nbconvert_exporter": "python",
   "pygments_lexer": "ipython3",
   "version": "3.8.13"
  }
 },
 "nbformat": 4,
 "nbformat_minor": 5
}
