{
 "cells": [
  {
   "cell_type": "code",
   "execution_count": null,
   "metadata": {},
   "outputs": [],
   "source": [
    "import glob\n",
    "import pandas as pd"
   ]
  },
  {
   "cell_type": "code",
   "execution_count": 49,
   "metadata": {},
   "outputs": [],
   "source": [
    "data_path = 'DATASET-PATH' # point this to your data folder\n",
    "test_path = data_path + 'test_set/'\n",
    "submission_path = data_path + 'submissions/'\n",
    "test_input_logs = sorted(glob.glob(test_path + \"log_input_*.csv\"))"
   ]
  },
  {
   "cell_type": "code",
   "execution_count": 27,
   "metadata": {},
   "outputs": [],
   "source": [
    "def generate_random_submission(input_logs):\n",
    "    output = []\n",
    "    for i,f in enumerate(input_logs):\n",
    "        df = pd.read_csv(f)\n",
    "        print('file {} read'.format(i))\n",
    "        df = df.drop_duplicates(subset='session_id', keep='first', inplace=False)\n",
    "        for j in df.index:\n",
    "            sess_len = df.loc[j,'session_length']\n",
    "            partial_len = math.ceil(sess_len/2)\n",
    "            current_preds = np.random.choice([0, 1], size=(partial_len,))\n",
    "            output.append(current_preds)\n",
    "    return output"
   ]
  },
  {
   "cell_type": "code",
   "execution_count": 30,
   "metadata": {},
   "outputs": [],
   "source": [
    "def save_submission(output,output_path):\n",
    "    with open(output_path,\"w\") as f:\n",
    "        for l in output:\n",
    "            line = ''.join(map(str,l))\n",
    "            f.write(line + '\\n')\n",
    "    print('submission saved to {}'.format(output_path))"
   ]
  },
  {
   "cell_type": "code",
   "execution_count": null,
   "metadata": {},
   "outputs": [],
   "source": [
    "random_submission_list = generate_random_submission(test_input_logs)\n",
    "save_submission(random_submission_list,submission_path + 'random_submission.txt')"
   ]
  }
 ],
 "metadata": {
  "kernelspec": {
   "display_name": "Python 3",
   "language": "python",
   "name": "python3"
  },
  "language_info": {
   "codemirror_mode": {
    "name": "ipython",
    "version": 3
   },
   "file_extension": ".py",
   "mimetype": "text/x-python",
   "name": "python",
   "nbconvert_exporter": "python",
   "pygments_lexer": "ipython3",
   "version": "3.7.1"
  }
 },
 "nbformat": 4,
 "nbformat_minor": 2
}
